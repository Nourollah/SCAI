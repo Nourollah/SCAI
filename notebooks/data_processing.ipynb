{
 "cells": [
  {
   "cell_type": "code",
   "execution_count": 1,
   "id": "086c8828",
   "metadata": {},
   "outputs": [],
   "source": [
    "import os\n",
    "import random\n",
    "import operator\n",
    "from typing import List, Union\n",
    "\n",
    "# Import necessary ASE modules\n",
    "from ase import Atoms\n",
    "from ase.io import read, write"
   ]
  },
  {
   "cell_type": "code",
   "execution_count": null,
   "id": "2361abfe",
   "metadata": {},
   "outputs": [],
   "source": [
    "def process_all_traj_files(\n",
    "    target_directory: str = \".\",\n",
    "    num_snapshots_to_select: int = 100,\n",
    "    output_subdir_name: str = \"subsets\"\n",
    ") -> None:\n",
    "    \"\"\"\n",
    "    Scans a target directory for .traj files, loads each file, selects a random\n",
    "    subset of snapshots, and saves these subsets to new .traj files in a\n",
    "    specified output subdirectory.\n",
    "\n",
    "    The new filename will be derived from the original filename by appending\n",
    "    '_subset' before the file extension.\n",
    "\n",
    "    Parameters:\n",
    "        target_directory (str): The directory to scan for .traj files.\n",
    "                                Defaults to the current directory.\n",
    "        num_snapshots_to_select (int): The maximum number of random snapshots\n",
    "                                       to select for each subset. If a trajectory\n",
    "                                       has fewer snapshots, all available snapshots\n",
    "                                       will be selected for that file.\n",
    "        output_subdir_name (str): The name of the subdirectory within target_directory\n",
    "                                  where the subset .traj files will be saved.\n",
    "    \"\"\"\n",
    "    print(f\"Scanning directory: '{target_directory}' for .traj files...\")\n",
    "\n",
    "    # Construct the full path for the output subdirectory\n",
    "    full_output_directory: str = os.path.join(target_directory, output_subdir_name)\n",
    "    os.makedirs(full_output_directory, exist_ok=True)\n",
    "    print(f\"Output subsets will be saved in: '{full_output_directory}'\")\n",
    "\n",
    "    # List all files in the target directory\n",
    "    files_in_dir: List[str] = os.listdir(target_directory)\n",
    "\n",
    "    # Filter for .traj files only\n",
    "    traj_files: List[str] = [\n",
    "        f for f in files_in_dir\n",
    "        if f.endswith(\".traj\") and os.path.isfile(os.path.join(target_directory, f))\n",
    "    ]\n",
    "\n",
    "    if not traj_files:\n",
    "        print(f\"No .traj files found in '{target_directory}'.\")\n",
    "        return\n",
    "\n",
    "    for traj_file_name in traj_files:\n",
    "        input_filepath: str = os.path.join(target_directory, traj_file_name)\n",
    "\n",
    "        try:\n",
    "            # 1. Load the entire trajectory from the current input file\n",
    "            all_data: List[Atoms] = read(input_filepath, index=':')\n",
    "            total_snapshots: int = len(all_data)\n",
    "\n",
    "            if total_snapshots == 0:\n",
    "                print(f\"Skipping '{input_filepath}': Contains no snapshots.\")\n",
    "                continue # Move to the next file\n",
    "\n",
    "            print(f\"\\nProcessing '{input_filepath}' (Total snapshots: {total_snapshots}).\")\n",
    "\n",
    "            # 2. Determine the actual number of snapshots to sample\n",
    "            actual_num_to_sample: int = min(num_snapshots_to_select, total_snapshots)\n",
    "\n",
    "            if actual_num_to_sample == 0:\n",
    "                print(f\"Warning: No snapshots to select from '{input_filepath}'.\")\n",
    "                continue # Move to the next file\n",
    "\n",
    "            # 3. Generate random unique indices for the subset\n",
    "            random_indices: List[int] = random.sample(range(total_snapshots), actual_num_to_sample)\n",
    "            # Optional: random_indices.sort() # Uncomment if you want the subset in original order\n",
    "\n",
    "            # 4. Use operator.itemgetter for efficient subset selection\n",
    "            get_subset_items = operator.itemgetter(*random_indices)\n",
    "\n",
    "            # Handle the case where only one item is selected by itemgetter\n",
    "            if actual_num_to_sample == 1:\n",
    "                subset_data: List[Atoms] = [get_subset_items(all_data)]\n",
    "            else:\n",
    "                subset_data: List[Atoms] = list(get_subset_items(all_data))\n",
    "\n",
    "            print(f\"  Selected {len(subset_data)} random snapshots.\")\n",
    "\n",
    "            # 5. Construct the output filename\n",
    "            name_without_ext, ext = os.path.splitext(traj_file_name)\n",
    "            output_filename: str = f\"{name_without_ext}_subset{ext}\"\n",
    "            output_filepath: str = os.path.join(full_output_directory, output_filename)\n",
    "\n",
    "            # 6. Save the subset data to the new .traj file\n",
    "            write(output_filepath, subset_data)\n",
    "            print(f\"  Subset saved to '{output_filepath}'.\")\n",
    "\n",
    "        except FileNotFoundError:\n",
    "            print(f\"Error: Input file '{input_filepath}' not found during processing.\")\n",
    "        except Exception as e:\n",
    "            print(f\"An unexpected error occurred while processing '{input_filepath}': {e}\")\n",
    "\n",
    "    print(\"\\nAll .traj files processed.\")"
   ]
  },
  {
   "cell_type": "code",
   "execution_count": null,
   "id": "030732d9",
   "metadata": {},
   "outputs": [
    {
     "name": "stdout",
     "output_type": "stream",
     "text": [
      "Scanning directory: 'databases/length_generalization_small/test_single' for .traj files...\n",
      "Output subsets will be saved in: 'databases/length_generalization_small/test_single/subset_results_simple'\n",
      "\n",
      "Processing 'databases/length_generalization_small/test_single/CCCCCCCC_total.traj' (Total snapshots: 11001).\n",
      "  Selected 100 random snapshots.\n",
      "  Subset saved to 'databases/length_generalization_small/test_single/subset_results_simple/CCCCCCCC_total_subset.traj'.\n",
      "\n",
      "All .traj files processed.\n"
     ]
    }
   ],
   "source": [
    "process_all_traj_files(target_directory=\"databases/length_generalization_small/train\", num_snapshots_to_select=1000, output_subdir_name=\"subset_results_simple\")\n"
   ]
  },
  {
   "cell_type": "code",
   "execution_count": 2,
   "id": "81ad89f7",
   "metadata": {},
   "outputs": [
    {
     "ename": "ModuleNotFoundError",
     "evalue": "No module named 'gpaw'",
     "output_type": "error",
     "traceback": [
      "\u001b[0;31m---------------------------------------------------------------------------\u001b[0m",
      "\u001b[0;31mModuleNotFoundError\u001b[0m                       Traceback (most recent call last)",
      "Cell \u001b[0;32mIn[2], line 1\u001b[0m\n\u001b[0;32m----> 1\u001b[0m \u001b[38;5;28;01mfrom\u001b[39;00m\u001b[38;5;250m \u001b[39m\u001b[38;5;21;01mgpaw\u001b[39;00m\u001b[38;5;250m \u001b[39m\u001b[38;5;28;01mimport\u001b[39;00m GPAW\n\u001b[1;32m      3\u001b[0m \u001b[38;5;28;01mfrom\u001b[39;00m\u001b[38;5;250m \u001b[39m\u001b[38;5;21;01mase\u001b[39;00m\u001b[38;5;250m \u001b[39m\u001b[38;5;28;01mimport\u001b[39;00m Atoms\n\u001b[1;32m      4\u001b[0m \u001b[38;5;28;01mfrom\u001b[39;00m\u001b[38;5;250m \u001b[39m\u001b[38;5;21;01mase\u001b[39;00m\u001b[38;5;21;01m.\u001b[39;00m\u001b[38;5;21;01mio\u001b[39;00m\u001b[38;5;250m \u001b[39m\u001b[38;5;28;01mimport\u001b[39;00m Trajectory\n",
      "\u001b[0;31mModuleNotFoundError\u001b[0m: No module named 'gpaw'"
     ]
    }
   ],
   "source": [
    "from gpaw import GPAW\n",
    "\n",
    "from ase import Atoms\n",
    "from ase.io import Trajectory\n",
    "\n",
    "atoms = Atoms('N2', positions=[[0, 0, -1], [0, 0, 1]])\n",
    "atoms.center(vacuum=3.0)\n",
    "\n",
    "calc = GPAW(mode='lcao', basis='dzp', txt='gpaw.txt')\n",
    "atoms.calc = calc\n",
    "\n",
    "traj = Trajectory('binding_curve.traj', 'w')\n",
    "\n",
    "step = 0.05\n",
    "nsteps = int(3 / step)\n",
    "\n",
    "for i in range(nsteps):\n",
    "    d = 0.5 + i * step\n",
    "    atoms.positions[1, 2] = atoms.positions[0, 2] + d\n",
    "    atoms.center(vacuum=3.0)\n",
    "    e = atoms.get_potential_energy()\n",
    "    f = atoms.get_forces()\n",
    "    print('distance, energy', d, e)\n",
    "    print('force', f)\n",
    "    traj.write(atoms)"
   ]
  },
  {
   "cell_type": "code",
   "execution_count": 3,
   "id": "d6c42491",
   "metadata": {},
   "outputs": [],
   "source": [
    "from ase.build import molecule\n",
    "atoms = molecule('H2O', vacuum=3.0)"
   ]
  },
  {
   "cell_type": "code",
   "execution_count": null,
   "id": "8997aebe",
   "metadata": {},
   "outputs": [
    {
     "name": "stdout",
     "output_type": "stream",
     "text": [
      "['PH3', 'P2', 'CH3CHO', 'H2COH', 'CS', 'OCHCHO', 'C3H9C', 'CH3COF', 'CH3CH2OCH3', 'HCOOH', 'HCCl3', 'HOCl', 'H2', 'SH2', 'C2H2', 'C4H4NH', 'CH3SCH3', 'SiH2_s3B1d', 'CH3SH', 'CH3CO', 'CO', 'ClF3', 'SiH4', 'C2H6CHOH', 'CH2NHCH2', 'isobutene', 'HCO', 'bicyclobutane', 'LiF', 'Si', 'C2H6', 'CN', 'ClNO', 'S', 'SiF4', 'H3CNH2', 'methylenecyclopropane', 'CH3CH2OH', 'F', 'NaCl', 'CH3Cl', 'CH3SiH3', 'AlF3', 'C2H3', 'ClF', 'PF3', 'PH2', 'CH3CN', 'cyclobutene', 'CH3ONO', 'SiH3', 'C3H6_D3h', 'CO2', 'NO', 'trans-butane', 'H2CCHCl', 'LiH', 'NH2', 'CH', 'CH2OCH2', 'C6H6', 'CH3CONH2', 'cyclobutane', 'H2CCHCN', 'butadiene', 'C', 'H2CO', 'CH3COOH', 'HCF3', 'CH3S', 'CS2', 'SiH2_s1A1d', 'C4H4S', 'N2H4', 'OH', 'CH3OCH3', 'C5H5N', 'H2O', 'HCl', 'CH2_s1A1d', 'CH3CH2SH', 'CH3NO2', 'Cl', 'Be', 'BCl3', 'C4H4O', 'Al', 'CH3O', 'CH3OH', 'C3H7Cl', 'isobutane', 'Na', 'CCl4', 'CH3CH2O', 'H2CCHF', 'C3H7', 'CH3', 'O3', 'P', 'C2H4', 'NCCN', 'S2', 'AlCl3', 'SiCl4', 'SiO', 'C3H4_D2d', 'H', 'COF2', '2-butyne', 'C2H5', 'BF3', 'N2O', 'F2O', 'SO2', 'H2CCl2', 'CF3CN', 'HCN', 'C2H6NH', 'OCS', 'B', 'ClO', 'C3H8', 'HF', 'O2', 'SO', 'NH', 'C2F4', 'NF3', 'CH2_s3B1d', 'CH3CH2Cl', 'CH3COCl', 'NH3', 'C3H9N', 'CF4', 'C3H6_Cs', 'Si2H6', 'HCOOCH3', 'O', 'CCH', 'N', 'Si2', 'C2H6SO', 'C5H8', 'H2CF2', 'Li2', 'CH2SCH2', 'C2Cl4', 'C3H4_C3v', 'CH3COCH3', 'F2', 'CH4', 'SH', 'H2CCO', 'CH3CH2NH2', 'Li', 'N2', 'Cl2', 'H2O2', 'Na2', 'BeH', 'C3H4_C2v', 'NO2']\n"
     ]
    },
    {
     "data": {
      "text/plain": [
       "<Popen: returncode: None args: ['/home/amir/miniconda3/envs/KRMDT/bin/python...>"
      ]
     },
     "execution_count": 6,
     "metadata": {},
     "output_type": "execute_result"
    },
    {
     "name": "stderr",
     "output_type": "stream",
     "text": [
      "usage: ase [-h] [--version] [-T]\n",
      "           {help,info,test,gui,db,run,band-structure,build,dimensionality,eos,ulm,find,nebplot,nomad-upload,nomad-get,convert,reciprocal,completion,diff,exec}\n",
      "           ...\n",
      "ase: error: TclError: no display name and no $DISPLAY environment variable\n",
      "To get a full traceback, use: ase -T gui ...\n",
      "usage: ase [-h] [--version] [-T]\n",
      "           {help,info,test,gui,db,run,band-structure,build,dimensionality,eos,ulm,find,nebplot,nomad-upload,nomad-get,convert,reciprocal,completion,diff,exec}\n",
      "           ...\n",
      "ase: error: TclError: no display name and no $DISPLAY environment variable\n",
      "To get a full traceback, use: ase -T gui ...\n"
     ]
    }
   ],
   "source": [
    "from ase.collections import g2\n",
    "from ase.visualize import view\n",
    "\n",
    "print(g2.names)  # These are the molecule names\n",
    "atoms = g2['CH3CH2OH']\n",
    "view(atoms)\n",
    "view(g2)  # View all 162 systems"
   ]
  },
  {
   "cell_type": "code",
   "execution_count": null,
   "id": "7743860e",
   "metadata": {},
   "outputs": [],
   "source": []
  }
 ],
 "metadata": {
  "kernelspec": {
   "display_name": "Python 3",
   "language": "python",
   "name": "python3"
  },
  "language_info": {
   "codemirror_mode": {
    "name": "ipython",
    "version": 3
   },
   "file_extension": ".py",
   "mimetype": "text/x-python",
   "name": "python",
   "nbconvert_exporter": "python",
   "pygments_lexer": "ipython3",
   "version": "3.12.7"
  }
 },
 "nbformat": 4,
 "nbformat_minor": 5
}
