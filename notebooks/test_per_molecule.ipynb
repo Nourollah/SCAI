{
 "cells": [
  {
   "cell_type": "code",
   "execution_count": 56,
   "id": "5c346b9f24a8e3b6",
   "metadata": {
    "ExecuteTime": {
     "end_time": "2025-05-04T13:25:00.478435Z",
     "start_time": "2025-05-04T13:24:58.910435Z"
    }
   },
   "outputs": [],
   "source": [
    "from fairchem.core.datasets.ase_datasets import AseReadMultiStructureDataset\n",
    "from fairchem.core.models.model_registry import model_name_to_local_file\n",
    "from fairchem.core.common.relaxation.ase_utils import OCPCalculator\n",
    "\n",
    "import yaml\n",
    "import ase\n",
    "\n",
    "import torch\n",
    "from ase import Atoms\n",
    "from torch_geometric.data import Data\n",
    "import ase.data\n",
    "import numpy as np\n",
    "from fairchem.core.datasets.ase_datasets import AseReadMultiStructureDataset\n",
    "from fairchem.core.models.model_registry import model_name_to_local_file\n",
    "from fairchem.core.common.relaxation.ase_utils import OCPCalculator\n",
    "from fairchem.core.common.relaxation.ase_utils import OCPCalculator\n",
    "\n",
    "import yaml\n",
    "import typing"
   ]
  },
  {
   "cell_type": "code",
   "execution_count": 80,
   "id": "91fc52e5",
   "metadata": {},
   "outputs": [],
   "source": [
    "import numpy as np\n",
    "from rich.console import Console\n",
    "from rich.table import Table\n",
    "\n",
    "def calculate_force_metrics(labels, preds):\n",
    "    \"\"\"\n",
    "    Calculate MAE, Cosine Similarity, and Force Magnitude for each model.\n",
    "    \n",
    "    Args:\n",
    "        labels (list): List of true forces for each molecule.\n",
    "        preds (list): List of predicted forces for each model.\n",
    "    \n",
    "    Returns:\n",
    "        dict: Dictionary with metrics for each model\n",
    "    \"\"\"\n",
    "    # metrics = {}\n",
    "    # model_names = [key for key in results.keys() if key != \"labels\"]\n",
    "    \n",
    "    # for model_name in model_names:\n",
    "        # Initialize accumulators\n",
    "    molecule_mae = []\n",
    "    atom_cosine_sim = []\n",
    "    atom_pred_magnitudes = []\n",
    "    atom_true_magnitudes = []\n",
    "        \n",
    "    # Process each molecule\n",
    "    for i in range(len(labels)):\n",
    "        pred_forces = preds[i]\n",
    "        true_forces = labels[i]\n",
    "        \n",
    "        # MAE calculation for this molecule\n",
    "        mae = np.mean(np.abs(pred_forces - true_forces))\n",
    "        molecule_mae.append(mae)\n",
    "        \n",
    "        # Force magnitude calculation (vectorized)\n",
    "        pred_mags = np.linalg.norm(pred_forces, axis=1)\n",
    "        true_mags = np.linalg.norm(true_forces, axis=1)\n",
    "        atom_pred_magnitudes.extend(pred_mags)\n",
    "        atom_true_magnitudes.extend(true_mags)\n",
    "        \n",
    "        # Cosine similarity calculation (vectorized)\n",
    "        dot_products = np.sum(pred_forces * true_forces, axis=1)\n",
    "        # Avoid division by zero\n",
    "        valid_indices = (pred_mags > 1e-10) & (true_mags > 1e-10)\n",
    "        if np.any(valid_indices):\n",
    "            cos_sims = np.zeros(len(pred_mags))\n",
    "            cos_sims[valid_indices] = dot_products[valid_indices] / (pred_mags[valid_indices] * true_mags[valid_indices])\n",
    "            atom_cosine_sim.extend(cos_sims[valid_indices])\n",
    "    \n",
    "        # Compute final metrics\n",
    "        metrics = {\n",
    "            \"MAE\": np.mean(molecule_mae),\n",
    "            \"Mean_Pred_Magnitude\": np.mean(atom_pred_magnitudes),\n",
    "            \"Mean_True_Magnitude\": np.mean(atom_true_magnitudes),\n",
    "            \"MAE_Magnitude\": np.mean(np.abs(np.array(atom_pred_magnitudes) - np.array(atom_true_magnitudes))),\n",
    "            \"Mean_Cosine_Similarity\": np.mean(atom_cosine_sim) if atom_cosine_sim else np.nan\n",
    "        }\n",
    "    \n",
    "    return metrics\n",
    "\n",
    "# Display results in a nice table\n",
    "def display_metrics_table(metrics):\n",
    "    console = Console()\n",
    "    table = Table(title=\"Force Prediction Metrics\")\n",
    "    \n",
    "    table.add_column(\"Model\", style=\"cyan\")\n",
    "    table.add_column(\"MAE (Hartree)\", style=\"green\")\n",
    "    table.add_column(\"Mean Cosine Sim\", style=\"yellow\")\n",
    "    table.add_column(\"Mean Force Mag\", style=\"magenta\")\n",
    "    \n",
    "    for model_name, model_metrics in metrics.items():\n",
    "        table.add_row(\n",
    "            model_name,\n",
    "            f\"{model_metrics['MAE']:.4f}\",\n",
    "            f\"{model_metrics['Mean_Cosine_Similarity']:.4f}\",\n",
    "            f\"{model_metrics['Mean_Pred_Magnitude']:.4f}\"\n",
    "        )\n",
    "    \n",
    "    console.print(table)"
   ]
  },
  {
   "cell_type": "code",
   "execution_count": 57,
   "id": "15b71b5ea64eb71",
   "metadata": {
    "ExecuteTime": {
     "end_time": "2025-05-04T13:25:01.479863Z",
     "start_time": "2025-05-04T13:25:01.477144Z"
    }
   },
   "outputs": [],
   "source": [
    "config = yaml.safe_load(open(\"configs/Experiment-1/dataset.yml\", \"r\"))\n",
    "ckpt_path = \"checkpoints/2025-07-25-16-34-24/checkpoint.pt\""
   ]
  },
  {
   "cell_type": "code",
   "execution_count": 75,
   "id": "381d81afc1fccc4b",
   "metadata": {},
   "outputs": [
    {
     "name": "stderr",
     "output_type": "stream",
     "text": [
      "INFO:root:amp: false\n",
      "cmd:\n",
      "  checkpoint_dir: /home/c23125717/Projects/fairchem/checkpoints/2025-08-06-09-46-56\n",
      "  commit: core:63249b01,experimental:NA\n",
      "  identifier: ''\n",
      "  logs_dir: /home/c23125717/Projects/fairchem/logs/wandb/2025-08-06-09-46-56\n",
      "  print_every: 100\n",
      "  results_dir: /home/c23125717/Projects/fairchem/results/2025-08-06-09-46-56\n",
      "  seed: null\n",
      "  timestamp_id: 2025-08-06-09-46-56\n",
      "  version: ''\n",
      "dataset:\n",
      "  a2g_args:\n",
      "    r_energy: true\n",
      "    r_forces: true\n",
      "  format: ase_read_multi\n",
      "  keep_in_memory: true\n",
      "  key_mapping:\n",
      "    atoms: atomic_numbers\n",
      "  pattern: '*.traj'\n",
      "  use_tqdm: true\n",
      "evaluation_metrics:\n",
      "  metrics:\n",
      "    energy:\n",
      "    - mae\n",
      "    forces:\n",
      "    - mae\n",
      "    - cosine_similarity\n",
      "    - magnitude_error\n",
      "    misc:\n",
      "    - energy_forces_within_threshold\n",
      "  primary_metric: forces_mae\n",
      "gp_gpus: null\n",
      "gpus: 0\n",
      "logger: wandb\n",
      "loss_functions:\n",
      "- energy:\n",
      "    coefficient: 4\n",
      "    fn: mae\n",
      "- forces:\n",
      "    coefficient: 100\n",
      "    fn: l2mae\n",
      "model:\n",
      "  alpha_drop: 0.1\n",
      "  attn_activation: silu\n",
      "  attn_alpha_channels: 64\n",
      "  attn_hidden_channels: 64\n",
      "  attn_value_channels: 16\n",
      "  distance_function: gaussian\n",
      "  drop_path_rate: 0.1\n",
      "  edge_channels: 128\n",
      "  ffn_activation: silu\n",
      "  ffn_hidden_channels: 128\n",
      "  grid_resolution: 18\n",
      "  lmax_list:\n",
      "  - 4\n",
      "  max_neighbors: 20\n",
      "  max_num_elements: 90\n",
      "  max_radius: 12.0\n",
      "  mmax_list:\n",
      "  - 2\n",
      "  name: equiformer_v2\n",
      "  norm_type: layer_norm_sh\n",
      "  num_distance_basis: 512\n",
      "  num_heads: 8\n",
      "  num_layers: 8\n",
      "  num_sphere_samples: 128\n",
      "  otf_graph: true\n",
      "  proj_drop: 0.0\n",
      "  regress_forces: true\n",
      "  sphere_channels: 128\n",
      "  use_atom_edge_embedding: true\n",
      "  use_gate_act: false\n",
      "  use_grid_mlp: true\n",
      "  use_pbc: true\n",
      "  use_s2_act_attn: false\n",
      "  weight_init: uniform\n",
      "optim:\n",
      "  batch_size: 8\n",
      "  clip_grad_norm: 100\n",
      "  ema_decay: 0.999\n",
      "  eval_batch_size: 8\n",
      "  eval_every: 10000\n",
      "  lr_initial: 0.0004\n",
      "  max_epochs: 100\n",
      "  num_workers: 8\n",
      "  optimizer: AdamW\n",
      "  optimizer_params:\n",
      "    weight_decay: 0.001\n",
      "  scheduler: LambdaLR\n",
      "  scheduler_params:\n",
      "    lambda_type: cosine\n",
      "    lr_min_factor: 0.01\n",
      "    warmup_epochs: 0.01\n",
      "    warmup_factor: 0.2\n",
      "outputs:\n",
      "  energy:\n",
      "    level: system\n",
      "    property: energy\n",
      "    shape: 1\n",
      "  forces:\n",
      "    eval_on_free_atoms: true\n",
      "    irrep_dim: 1\n",
      "    level: atom\n",
      "    property: forces\n",
      "    train_on_free_atoms: true\n",
      "relax_dataset: {}\n",
      "slurm: {}\n",
      "task: {}\n",
      "test_dataset: {}\n",
      "trainer: ocp\n",
      "val_dataset: {}\n",
      "\n",
      "INFO:root:Loading model: equiformer_v2\n",
      "WARNING:root:equiformer_v2 (EquiformerV2) class is deprecated in favor of equiformer_v2_backbone_and_heads  (EquiformerV2BackboneAndHeads)\n"
     ]
    },
    {
     "name": "stderr",
     "output_type": "stream",
     "text": [
      "INFO:root:Loaded EquiformerV2 with 31058690 parameters.\n",
      "INFO:root:Loading checkpoint from: checkpoints/2025-07-25-16-34-24/checkpoint.pt\n",
      "/home/c23125717/Projects/fairchem/src/fairchem/core/trainers/base_trainer.py:607: FutureWarning: You are using `torch.load` with `weights_only=False` (the current default value), which uses the default pickle module implicitly. It is possible to construct malicious pickle data which will execute arbitrary code during unpickling (See https://github.com/pytorch/pytorch/blob/main/SECURITY.md#untrusted-models for more details). In a future release, the default value for `weights_only` will be flipped to `True`. This limits the functions that could be executed during unpickling. Arbitrary objects will no longer be allowed to be loaded via this mode unless they are explicitly allowlisted by the user via `torch.serialization.add_safe_globals`. We recommend you start setting `weights_only=True` for any use case where you don't have full control of the loaded file. Please open an issue on GitHub for any issues related to this experimental feature.\n",
      "  checkpoint = torch.load(checkpoint_path, map_location=map_location)\n",
      "INFO:root:Loading checkpoint in inference-only mode, not loading keys associated with trainer state!\n",
      "WARNING:root:No seed has been set in modelcheckpoint or OCPCalculator! Results may not be reproducible on re-run\n"
     ]
    }
   ],
   "source": [
    "model = OCPCalculator(config_yml=\"configs/Experiment-1/equiformer2.yml\",\n",
    "                     checkpoint_path=\"checkpoints/2025-07-25-16-34-24/checkpoint.pt\",)\n"
   ]
  },
  {
   "cell_type": "code",
   "execution_count": 76,
   "id": "55c7c5d1",
   "metadata": {},
   "outputs": [],
   "source": [
    "config = yaml.safe_load(open(\"configs/Experiment-1-length-test/dataset.yml\", \"r\"))\n",
    "ckpt_path = \"checkpoints/2025-08-05-15-51-44/checkpoint.pt\""
   ]
  },
  {
   "cell_type": "code",
   "execution_count": 77,
   "id": "8b6e6b81",
   "metadata": {},
   "outputs": [
    {
     "name": "stderr",
     "output_type": "stream",
     "text": [
      "/home/c23125717/Projects/fairchem/src/fairchem/core/common/relaxation/ase_utils.py:200: FutureWarning: You are using `torch.load` with `weights_only=False` (the current default value), which uses the default pickle module implicitly. It is possible to construct malicious pickle data which will execute arbitrary code during unpickling (See https://github.com/pytorch/pytorch/blob/main/SECURITY.md#untrusted-models for more details). In a future release, the default value for `weights_only` will be flipped to `True`. This limits the functions that could be executed during unpickling. Arbitrary objects will no longer be allowed to be loaded via this mode unless they are explicitly allowlisted by the user via `torch.serialization.add_safe_globals`. We recommend you start setting `weights_only=True` for any use case where you don't have full control of the loaded file. Please open an issue on GitHub for any issues related to this experimental feature.\n",
      "  checkpoint = torch.load(checkpoint_path, map_location=torch.device(\"cpu\"))\n",
      "INFO:root:local rank base: 0\n",
      "INFO:root:amp: false\n",
      "cmd:\n",
      "  checkpoint_dir: /home/c23125717/Projects/fairchem/checkpoints/2025-08-06-09-46-56\n",
      "  commit: core:63249b01,experimental:NA\n",
      "  identifier: ''\n",
      "  logs_dir: /home/c23125717/Projects/fairchem/logs/wandb/2025-08-06-09-46-56\n",
      "  print_every: 100\n",
      "  results_dir: /home/c23125717/Projects/fairchem/results/2025-08-06-09-46-56\n",
      "  seed: null\n",
      "  timestamp_id: 2025-08-06-09-46-56\n",
      "  version: ''\n",
      "dataset:\n",
      "  a2g_args:\n",
      "    r_energy: true\n",
      "    r_forces: true\n",
      "  format: ase_read_multi\n",
      "  keep_in_memory: true\n",
      "  key_mapping:\n",
      "    atoms: atomic_numbers\n",
      "  pattern: '*.traj'\n",
      "  use_tqdm: true\n",
      "evaluation_metrics:\n",
      "  metrics:\n",
      "    energy:\n",
      "    - mae\n",
      "    forces:\n",
      "    - mae\n",
      "    - cosine_similarity\n",
      "    - magnitude_error\n",
      "    misc:\n",
      "    - energy_forces_within_threshold\n",
      "  primary_metric: forces_mae\n",
      "gp_gpus: null\n",
      "gpus: 1\n",
      "logger: wandb\n",
      "loss_functions:\n",
      "- energy:\n",
      "    coefficient: 4\n",
      "    fn: mae\n",
      "- forces:\n",
      "    coefficient: 100\n",
      "    fn: l2mae\n",
      "model:\n",
      "  alpha_drop: 0.1\n",
      "  attn_activation: silu\n",
      "  attn_alpha_channels: 64\n",
      "  attn_hidden_channels: 64\n",
      "  attn_value_channels: 16\n",
      "  distance_function: gaussian\n",
      "  drop_path_rate: 0.1\n",
      "  edge_channels: 128\n",
      "  ffn_activation: silu\n",
      "  ffn_hidden_channels: 128\n",
      "  grid_resolution: 18\n",
      "  lmax_list:\n",
      "  - 4\n",
      "  max_neighbors: 20\n",
      "  max_num_elements: 90\n",
      "  max_radius: 12.0\n",
      "  mmax_list:\n",
      "  - 2\n",
      "  name: equiformer_v2\n",
      "  norm_type: layer_norm_sh\n",
      "  num_distance_basis: 512\n",
      "  num_heads: 8\n",
      "  num_layers: 8\n",
      "  num_sphere_samples: 128\n",
      "  otf_graph: true\n",
      "  proj_drop: 0.0\n",
      "  regress_forces: true\n",
      "  sphere_channels: 128\n",
      "  use_atom_edge_embedding: true\n",
      "  use_gate_act: false\n",
      "  use_grid_mlp: true\n",
      "  use_pbc: true\n",
      "  use_s2_act_attn: false\n",
      "  weight_init: uniform\n",
      "optim:\n",
      "  batch_size: 8\n",
      "  clip_grad_norm: 100\n",
      "  ema_decay: 0.999\n",
      "  eval_batch_size: 8\n",
      "  eval_every: 10000\n",
      "  lr_initial: 0.0004\n",
      "  max_epochs: 100\n",
      "  num_workers: 8\n",
      "  optimizer: AdamW\n",
      "  optimizer_params:\n",
      "    weight_decay: 0.001\n",
      "  scheduler: LambdaLR\n",
      "  scheduler_params:\n",
      "    epochs: 125700\n",
      "    lambda_type: cosine\n",
      "    lr: 0.0004\n",
      "    lr_min_factor: 0.01\n",
      "    warmup_epochs: 12\n",
      "    warmup_factor: 0.2\n",
      "outputs:\n",
      "  energy:\n",
      "    level: system\n",
      "    property: energy\n",
      "    shape: 1\n",
      "  forces:\n",
      "    eval_on_free_atoms: true\n",
      "    irrep_dim: 1\n",
      "    level: atom\n",
      "    property: forces\n",
      "    train_on_free_atoms: true\n",
      "relax_dataset: {}\n",
      "slurm: {}\n",
      "task: {}\n",
      "test_dataset: {}\n",
      "trainer: ocp\n",
      "val_dataset: {}\n",
      "\n",
      "INFO:root:Loading model: equiformer_v2\n",
      "WARNING:root:equiformer_v2 (EquiformerV2) class is deprecated in favor of equiformer_v2_backbone_and_heads  (EquiformerV2BackboneAndHeads)\n",
      "INFO:root:Loaded EquiformerV2 with 31058690 parameters.\n",
      "INFO:root:Loading checkpoint in inference-only mode, not loading keys associated with trainer state!\n",
      "WARNING:root:No seed has been set in modelcheckpoint or OCPCalculator! Results may not be reproducible on re-run\n"
     ]
    }
   ],
   "source": [
    "calculators = OCPCalculator(\n",
    "    checkpoint_path=ckpt_path,\n",
    "    cpu=False,\n",
    "    trainer=\"equiformerv2_forces\"\n",
    "    )\n"
   ]
  },
  {
   "cell_type": "code",
   "execution_count": 133,
   "id": "82d14a79778dd7d2",
   "metadata": {
    "ExecuteTime": {
     "end_time": "2025-05-04T13:25:06.802203Z",
     "start_time": "2025-05-04T13:25:05.127966Z"
    }
   },
   "outputs": [
    {
     "name": "stderr",
     "output_type": "stream",
     "text": [
      "100%|██████████| 1/1 [00:00<00:00,  4.64it/s]\n"
     ]
    }
   ],
   "source": [
    "data = AseReadMultiStructureDataset({\"src\": \"databases/Experiment-1/single\",\n",
    "                                     'pattern': '*.traj',\n",
    "                                     'a2g_args': {'r_energy': True, 'r_forces': True},\n",
    "                                     'key_mapping': {'atoms': 'atomic_numbers'}})\n",
    "symbols = [ase.data.chemical_symbols[z.item()] for z in data[0].atomic_numbers]"
   ]
  },
  {
   "cell_type": "code",
   "execution_count": 134,
   "id": "f1a42c17",
   "metadata": {},
   "outputs": [],
   "source": [
    "labels = []\n",
    "preds = []\n",
    "\n",
    "for idx, molecule in enumerate(data):\n",
    "    atoms = Atoms(\n",
    "        symbols=symbols,\n",
    "        positions=molecule.pos.numpy(),\n",
    "        cell=molecule.cell.numpy().reshape(3, 3),\n",
    "        pbc=molecule.pbc.numpy()\n",
    "        )\n",
    "    labels.append(molecule.forces.numpy())\n",
    "\n",
    "    atoms.calc = calculators\n",
    "    # energy = atoms.get_potential_energy()\n",
    "    forces = atoms.get_forces()\n",
    "    preds.append(forces)"
   ]
  },
  {
   "cell_type": "code",
   "execution_count": 135,
   "id": "009bcbad",
   "metadata": {},
   "outputs": [],
   "source": [
    "metrics_res = calculate_force_metrics(labels, preds)"
   ]
  },
  {
   "cell_type": "markdown",
   "id": "c473f37b",
   "metadata": {},
   "source": [
    "#### For C6H14"
   ]
  },
  {
   "cell_type": "code",
   "execution_count": 136,
   "id": "96de8136",
   "metadata": {},
   "outputs": [
    {
     "data": {
      "text/plain": [
       "{'MAE': 0.0004525841,\n",
       " 'Mean_Pred_Magnitude': 1.3642163,\n",
       " 'Mean_True_Magnitude': 1.3640522,\n",
       " 'MAE_Magnitude': 0.0005191829,\n",
       " 'Mean_Cosine_Similarity': 0.9999995698284474}"
      ]
     },
     "execution_count": 136,
     "metadata": {},
     "output_type": "execute_result"
    }
   ],
   "source": [
    "metrics_res"
   ]
  },
  {
   "cell_type": "markdown",
   "id": "d197f46b",
   "metadata": {},
   "source": [
    "#### For C5H12"
   ]
  },
  {
   "cell_type": "code",
   "execution_count": 132,
   "id": "df0a752b",
   "metadata": {},
   "outputs": [
    {
     "data": {
      "text/plain": [
       "{'MAE': 0.00043337065,\n",
       " 'Mean_Pred_Magnitude': 1.3671523,\n",
       " 'Mean_True_Magnitude': 1.3669759,\n",
       " 'MAE_Magnitude': 0.0005000761,\n",
       " 'Mean_Cosine_Similarity': 0.9999995971094238}"
      ]
     },
     "execution_count": 132,
     "metadata": {},
     "output_type": "execute_result"
    }
   ],
   "source": [
    "metrics_res"
   ]
  },
  {
   "cell_type": "markdown",
   "id": "5e1aa2f0",
   "metadata": {},
   "source": [
    "#### For C4H10"
   ]
  },
  {
   "cell_type": "code",
   "execution_count": 128,
   "id": "68bdfee8",
   "metadata": {},
   "outputs": [
    {
     "data": {
      "text/plain": [
       "{'MAE': 0.00040020532,\n",
       " 'Mean_Pred_Magnitude': 1.3712018,\n",
       " 'Mean_True_Magnitude': 1.3710089,\n",
       " 'MAE_Magnitude': 0.000470241,\n",
       " 'Mean_Cosine_Similarity': 0.9999996724242708}"
      ]
     },
     "execution_count": 128,
     "metadata": {},
     "output_type": "execute_result"
    }
   ],
   "source": [
    "metrics_res"
   ]
  },
  {
   "cell_type": "markdown",
   "id": "b505845a",
   "metadata": {},
   "source": [
    "#### For C3H8"
   ]
  },
  {
   "cell_type": "code",
   "execution_count": 124,
   "id": "d07cefa6",
   "metadata": {},
   "outputs": [
    {
     "data": {
      "text/plain": [
       "{'MAE': 0.00035500422,\n",
       " 'Mean_Pred_Magnitude': 1.3775953,\n",
       " 'Mean_True_Magnitude': 1.3773923,\n",
       " 'MAE_Magnitude': 0.00042585368,\n",
       " 'Mean_Cosine_Similarity': 0.9999997823046849}"
      ]
     },
     "execution_count": 124,
     "metadata": {},
     "output_type": "execute_result"
    }
   ],
   "source": [
    "metrics_res"
   ]
  },
  {
   "cell_type": "markdown",
   "id": "5c497a66",
   "metadata": {},
   "source": [
    "#### For C2H6"
   ]
  },
  {
   "cell_type": "code",
   "execution_count": 120,
   "id": "d641296a",
   "metadata": {},
   "outputs": [
    {
     "data": {
      "text/plain": [
       "{'MAE': 0.00031542403,\n",
       " 'Mean_Pred_Magnitude': 1.4087495,\n",
       " 'Mean_True_Magnitude': 1.4084563,\n",
       " 'MAE_Magnitude': 0.0004201115,\n",
       " 'Mean_Cosine_Similarity': 0.999999863377618}"
      ]
     },
     "execution_count": 120,
     "metadata": {},
     "output_type": "execute_result"
    }
   ],
   "source": [
    "metrics_res"
   ]
  },
  {
   "cell_type": "markdown",
   "id": "4588d5f0",
   "metadata": {},
   "source": [
    "#### For C13H28"
   ]
  },
  {
   "cell_type": "code",
   "execution_count": 116,
   "id": "0893b086",
   "metadata": {},
   "outputs": [
    {
     "data": {
      "text/plain": [
       "{'MAE': 0.0027231583,\n",
       " 'Mean_Pred_Magnitude': 1.3564223,\n",
       " 'Mean_True_Magnitude': 1.3556314,\n",
       " 'MAE_Magnitude': 0.0030262843,\n",
       " 'Mean_Cosine_Similarity': 0.9999187853132155}"
      ]
     },
     "execution_count": 116,
     "metadata": {},
     "output_type": "execute_result"
    }
   ],
   "source": [
    "metrics_res"
   ]
  },
  {
   "cell_type": "markdown",
   "id": "79493686",
   "metadata": {},
   "source": [
    "#### For C12H26"
   ]
  },
  {
   "cell_type": "code",
   "execution_count": 112,
   "id": "36cd0816",
   "metadata": {},
   "outputs": [
    {
     "data": {
      "text/plain": [
       "{'MAE': 0.0026943157,\n",
       " 'Mean_Pred_Magnitude': 1.3554399,\n",
       " 'Mean_True_Magnitude': 1.3547657,\n",
       " 'MAE_Magnitude': 0.0029879145,\n",
       " 'Mean_Cosine_Similarity': 0.9999291093095682}"
      ]
     },
     "execution_count": 112,
     "metadata": {},
     "output_type": "execute_result"
    }
   ],
   "source": [
    "metrics_res"
   ]
  },
  {
   "cell_type": "markdown",
   "id": "3fb5be6e",
   "metadata": {},
   "source": [
    "#### For C11H24"
   ]
  },
  {
   "cell_type": "code",
   "execution_count": 108,
   "id": "e3459a32",
   "metadata": {},
   "outputs": [
    {
     "data": {
      "text/plain": [
       "{'MAE': 0.0025007997,\n",
       " 'Mean_Pred_Magnitude': 1.3608065,\n",
       " 'Mean_True_Magnitude': 1.3602604,\n",
       " 'MAE_Magnitude': 0.0027923489,\n",
       " 'Mean_Cosine_Similarity': 0.9999415297437783}"
      ]
     },
     "execution_count": 108,
     "metadata": {},
     "output_type": "execute_result"
    }
   ],
   "source": [
    "metrics_res"
   ]
  },
  {
   "cell_type": "markdown",
   "id": "d978d57a",
   "metadata": {},
   "source": [
    "#### For C10H22"
   ]
  },
  {
   "cell_type": "code",
   "execution_count": 104,
   "id": "1e4324a4",
   "metadata": {},
   "outputs": [
    {
     "data": {
      "text/plain": [
       "{'MAE': 0.0021731923,\n",
       " 'Mean_Pred_Magnitude': 1.3652018,\n",
       " 'Mean_True_Magnitude': 1.3646536,\n",
       " 'MAE_Magnitude': 0.0024131841,\n",
       " 'Mean_Cosine_Similarity': 0.9999696888670525}"
      ]
     },
     "execution_count": 104,
     "metadata": {},
     "output_type": "execute_result"
    }
   ],
   "source": [
    "metrics_res"
   ]
  },
  {
   "cell_type": "markdown",
   "id": "3d5f6a21",
   "metadata": {},
   "source": [
    "#### For C9H20"
   ]
  },
  {
   "cell_type": "code",
   "execution_count": 100,
   "id": "69dfc405",
   "metadata": {},
   "outputs": [
    {
     "data": {
      "text/plain": [
       "{'MAE': 0.0020462163,\n",
       " 'Mean_Pred_Magnitude': 1.3618153,\n",
       " 'Mean_True_Magnitude': 1.3613834,\n",
       " 'MAE_Magnitude': 0.0022848016,\n",
       " 'Mean_Cosine_Similarity': 0.9999754807592536}"
      ]
     },
     "execution_count": 100,
     "metadata": {},
     "output_type": "execute_result"
    }
   ],
   "source": [
    "metrics_res"
   ]
  },
  {
   "cell_type": "markdown",
   "id": "56c195c2",
   "metadata": {},
   "source": [
    "#### For C8H18"
   ]
  },
  {
   "cell_type": "code",
   "execution_count": 94,
   "id": "36205d9c",
   "metadata": {},
   "outputs": [
    {
     "data": {
      "text/plain": [
       "{'MAE': 0.0018281699,\n",
       " 'Mean_Pred_Magnitude': 1.3654447,\n",
       " 'Mean_True_Magnitude': 1.3652817,\n",
       " 'MAE_Magnitude': 0.002042961,\n",
       " 'Mean_Cosine_Similarity': 0.9999593346513038}"
      ]
     },
     "execution_count": 94,
     "metadata": {},
     "output_type": "execute_result"
    }
   ],
   "source": [
    "metrics_res"
   ]
  },
  {
   "cell_type": "code",
   "execution_count": 96,
   "id": "2920f713",
   "metadata": {},
   "outputs": [],
   "source": [
    "# Append it to a csv file\n",
    "import pandas as pd\n",
    "results_df = pd.DataFrame({\n",
    "    \"Molecule\": [\"C8H18\"],\n",
    "    \"MAE (Hartree)\": [metrics_res[\"MAE\"]],\n",
    "    \"Mean Cosine Sim\": [metrics_res[\"Mean_Cosine_Similarity\"]],\n",
    "    \"Mean Force Mag\": [metrics_res[\"Mean_Pred_Magnitude\"]]\n",
    "})\n",
    "results_df.to_csv(\"force_metrics_results.csv\", index=False)"
   ]
  },
  {
   "cell_type": "markdown",
   "id": "2621ccd7",
   "metadata": {},
   "source": [
    "#### For C7H14"
   ]
  },
  {
   "cell_type": "code",
   "execution_count": 82,
   "id": "4963ddf7",
   "metadata": {},
   "outputs": [
    {
     "data": {
      "text/plain": [
       "{'MAE': 0.0014768806,\n",
       " 'Mean_Pred_Magnitude': 1.3588446,\n",
       " 'Mean_True_Magnitude': 1.3588817,\n",
       " 'MAE_Magnitude': 0.0016397743,\n",
       " 'Mean_Cosine_Similarity': 0.9999399784944911}"
      ]
     },
     "execution_count": 82,
     "metadata": {},
     "output_type": "execute_result"
    }
   ],
   "source": [
    "metrics_res"
   ]
  },
  {
   "cell_type": "markdown",
   "id": "18515f01",
   "metadata": {},
   "source": [
    "#### "
   ]
  },
  {
   "cell_type": "code",
   "execution_count": 91,
   "id": "80167e3c",
   "metadata": {},
   "outputs": [
    {
     "data": {
      "text/plain": [
       "tensor([6, 6, 6, 6, 6, 6, 6, 6, 1, 1, 1, 1, 1, 1, 1, 1, 1, 1, 1, 1, 1, 1, 1, 1,\n",
       "        1, 1], dtype=torch.uint8)"
      ]
     },
     "execution_count": 91,
     "metadata": {},
     "output_type": "execute_result"
    }
   ],
   "source": [
    "data[0].atomic_numbers"
   ]
  },
  {
   "cell_type": "code",
   "execution_count": 83,
   "id": "21d54108",
   "metadata": {},
   "outputs": [],
   "source": [
    "# Make a csv file with the results\n",
    "import pandas as pd\n",
    "results_df = pd.DataFrame({\n",
    "    \"Molecule\": [\"C7H16\"],\n",
    "    \"MAE (Hartree)\": [metrics_res[\"MAE\"]],\n",
    "    \"Mean Cosine Sim\": [metrics_res[\"Mean_Cosine_Similarity\"]],\n",
    "    \"Mean Force Mag\": [metrics_res[\"Mean_Pred_Magnitude\"]]\n",
    "})\n",
    "results_df.to_csv(\"force_metrics_results.csv\", index=False)"
   ]
  },
  {
   "cell_type": "code",
   "execution_count": 44,
   "id": "5e569997",
   "metadata": {},
   "outputs": [],
   "source": [
    "from torch import nn\n",
    "MAE = nn.L1Loss()\n",
    "CS = nn.CosineSimilarity(dim=1, eps=1e-6)\n",
    "mae_list = []\n",
    "# cos_sim_list = []\n",
    "for prd, gt in zip(preds, labels):\n",
    "    prd = torch.tensor(prd, dtype=torch.float32)\n",
    "    gt = torch.tensor(gt, dtype=torch.float32)\n",
    "    mae = MAE(prd, gt)\n",
    "    # cos_sim = CS(prd, gt)\n",
    "    mae_list.append(mae.item())\n",
    "    # cos_sim_list.append(cos_sim.item())\n"
   ]
  },
  {
   "cell_type": "code",
   "execution_count": 46,
   "id": "65b081a1",
   "metadata": {},
   "outputs": [
    {
     "data": {
      "text/plain": [
       "[0.0007576398202218115,\n",
       " 0.8377722501754761,\n",
       " 1.0636065006256104,\n",
       " 1.034834623336792,\n",
       " 0.6447876691818237,\n",
       " 0.7229059338569641,\n",
       " 0.9090290665626526,\n",
       " 1.0366417169570923,\n",
       " 1.1340786218643188,\n",
       " 0.9195564985275269,\n",
       " 0.9236732125282288,\n",
       " 0.9725053310394287,\n",
       " 0.812979519367218,\n",
       " 0.7796967029571533,\n",
       " 0.8663342595100403,\n",
       " 0.9388853311538696,\n",
       " 1.059939980506897,\n",
       " 0.9767672419548035,\n",
       " 0.7958314418792725,\n",
       " 0.969752848148346,\n",
       " 0.9110025763511658,\n",
       " 0.9462427496910095,\n",
       " 0.8719473481178284,\n",
       " 0.8269702196121216,\n",
       " 0.8987808227539062,\n",
       " 0.9142641425132751,\n",
       " 1.0519920587539673,\n",
       " 0.9974897503852844,\n",
       " 0.8796082139015198,\n",
       " 1.0370166301727295,\n",
       " 0.89495849609375,\n",
       " 0.9257460832595825,\n",
       " 0.9799578785896301,\n",
       " 0.9651706218719482,\n",
       " 0.9126549363136292,\n",
       " 1.0877214670181274,\n",
       " 1.0899158716201782,\n",
       " 0.9702037572860718,\n",
       " 0.8011153340339661,\n",
       " 0.9351211786270142,\n",
       " 0.9239380359649658,\n",
       " 0.9949817061424255,\n",
       " 0.9574052095413208,\n",
       " 0.8925915360450745,\n",
       " 0.8459885716438293,\n",
       " 0.9109943509101868,\n",
       " 0.9419719576835632,\n",
       " 0.7789093255996704,\n",
       " 0.9175371527671814,\n",
       " 0.8964833617210388,\n",
       " 0.8451623320579529,\n",
       " 0.9105819463729858,\n",
       " 0.914695680141449,\n",
       " 1.0447088479995728,\n",
       " 0.8393771648406982,\n",
       " 0.8028271198272705,\n",
       " 0.9308160543441772,\n",
       " 0.9412131905555725,\n",
       " 1.016801357269287,\n",
       " 1.002195119857788,\n",
       " 0.8753414154052734,\n",
       " 0.9265146851539612,\n",
       " 1.0683510303497314,\n",
       " 1.0199286937713623,\n",
       " 0.914522111415863,\n",
       " 0.9599629640579224,\n",
       " 0.9368639588356018,\n",
       " 0.9984599947929382,\n",
       " 0.9704315662384033,\n",
       " 0.8585307598114014,\n",
       " 1.1333398818969727,\n",
       " 1.0183141231536865,\n",
       " 0.9329259395599365,\n",
       " 1.0052132606506348,\n",
       " 0.774458646774292,\n",
       " 0.875874400138855,\n",
       " 0.7799274921417236,\n",
       " 0.9504135251045227,\n",
       " 0.8251349925994873,\n",
       " 0.89442378282547,\n",
       " 0.9705913066864014,\n",
       " 1.0137203931808472,\n",
       " 0.8823009133338928,\n",
       " 0.8874897360801697,\n",
       " 1.017965316772461,\n",
       " 1.042497158050537,\n",
       " 0.8704266548156738,\n",
       " 1.081547737121582,\n",
       " 0.8859851956367493,\n",
       " 0.8393179774284363,\n",
       " 0.8469176888465881,\n",
       " 1.0525535345077515,\n",
       " 0.8489317893981934,\n",
       " 0.9920132756233215,\n",
       " 0.8770423531532288,\n",
       " 0.9561651349067688,\n",
       " 0.9367681741714478,\n",
       " 0.7247270941734314,\n",
       " 0.927703857421875,\n",
       " 0.8254510760307312,\n",
       " 0.8380554914474487,\n",
       " 0.8465097546577454,\n",
       " 0.8959581851959229,\n",
       " 0.9328522682189941,\n",
       " 0.9298336505889893,\n",
       " 0.8836694359779358,\n",
       " 0.960467517375946,\n",
       " 1.0121814012527466,\n",
       " 0.8985761404037476,\n",
       " 0.8725537061691284,\n",
       " 0.8693727254867554,\n",
       " 0.8973240852355957,\n",
       " 0.9272527694702148,\n",
       " 1.116473913192749,\n",
       " 1.0384490489959717,\n",
       " 0.9748116135597229,\n",
       " 0.933949887752533,\n",
       " 0.9117686748504639,\n",
       " 0.8111314177513123,\n",
       " 0.9011258482933044,\n",
       " 0.960016667842865,\n",
       " 0.8835031986236572,\n",
       " 0.8712174296379089,\n",
       " 0.960624635219574,\n",
       " 0.9671748280525208,\n",
       " 0.7703074812889099,\n",
       " 0.9925413131713867,\n",
       " 0.9315429329872131,\n",
       " 0.9354868531227112,\n",
       " 0.8601091504096985,\n",
       " 1.0586917400360107,\n",
       " 0.9680286049842834,\n",
       " 0.9656915068626404,\n",
       " 0.9688700437545776,\n",
       " 0.8512274026870728,\n",
       " 0.9366196990013123,\n",
       " 0.9942870140075684,\n",
       " 1.0116969347000122,\n",
       " 1.0039249658584595,\n",
       " 1.0001730918884277,\n",
       " 0.966709315776825,\n",
       " 0.9606814384460449,\n",
       " 1.0191701650619507,\n",
       " 0.9435093402862549,\n",
       " 0.9468430280685425,\n",
       " 0.876182496547699,\n",
       " 0.8855412602424622,\n",
       " 0.8625830411911011,\n",
       " 0.9861870408058167,\n",
       " 0.9660360217094421,\n",
       " 0.9090963006019592,\n",
       " 0.8863211274147034,\n",
       " 0.9297304153442383,\n",
       " 0.9241077899932861,\n",
       " 0.9898938536643982,\n",
       " 0.8985323309898376,\n",
       " 0.9724964499473572,\n",
       " 1.0089112520217896,\n",
       " 0.9843464493751526,\n",
       " 0.8306918740272522,\n",
       " 0.902466893196106,\n",
       " 0.9976968765258789,\n",
       " 1.0874000787734985,\n",
       " 1.0238697528839111,\n",
       " 0.9690144062042236,\n",
       " 1.0818121433258057,\n",
       " 1.0692373514175415,\n",
       " 0.9434775710105896,\n",
       " 0.878920316696167,\n",
       " 0.9565303325653076,\n",
       " 1.0245853662490845,\n",
       " 0.8699024319648743,\n",
       " 0.88018798828125,\n",
       " 0.9057053327560425,\n",
       " 0.8449103832244873,\n",
       " 0.8565342426300049,\n",
       " 0.8810376524925232,\n",
       " 0.9049946665763855,\n",
       " 0.7734902501106262,\n",
       " 0.8254538178443909,\n",
       " 0.8315486907958984,\n",
       " 0.8375892043113708,\n",
       " 0.8798913955688477,\n",
       " 0.8650593161582947,\n",
       " 0.9190142154693604,\n",
       " 0.8371662497520447,\n",
       " 0.8295565247535706,\n",
       " 0.8872182965278625,\n",
       " 0.945233166217804,\n",
       " 0.9226943850517273,\n",
       " 0.9721019864082336,\n",
       " 0.9081503748893738,\n",
       " 1.0159120559692383,\n",
       " 0.990420401096344,\n",
       " 0.9595584869384766,\n",
       " 0.9565470814704895,\n",
       " 0.9962750673294067,\n",
       " 0.8300155401229858,\n",
       " 0.931225061416626,\n",
       " 0.8350792527198792,\n",
       " 0.9550838470458984,\n",
       " 0.9604887962341309,\n",
       " 0.8504056930541992,\n",
       " 0.9167314171791077,\n",
       " 0.9887779951095581,\n",
       " 0.9032425284385681,\n",
       " 0.878545343875885,\n",
       " 0.8194717764854431,\n",
       " 0.9267715811729431,\n",
       " 0.8548322319984436,\n",
       " 0.9656797647476196,\n",
       " 0.8702757954597473,\n",
       " 0.9679368734359741,\n",
       " 0.9037608504295349,\n",
       " 0.885648787021637,\n",
       " 0.8454020619392395,\n",
       " 0.7816763520240784,\n",
       " 0.9989222884178162,\n",
       " 1.0355397462844849,\n",
       " 0.9087591767311096,\n",
       " 0.9275670051574707,\n",
       " 0.9178377389907837,\n",
       " 0.7974421381950378,\n",
       " 0.8218908309936523,\n",
       " 0.8920202255249023,\n",
       " 0.9633039832115173,\n",
       " 0.8831220269203186,\n",
       " 0.8462809920310974,\n",
       " 0.9084302186965942,\n",
       " 1.0948474407196045,\n",
       " 0.9313759803771973,\n",
       " 0.9295623302459717,\n",
       " 0.902321994304657,\n",
       " 0.8852639198303223,\n",
       " 0.8843101859092712,\n",
       " 0.8684632778167725,\n",
       " 0.8738805651664734,\n",
       " 0.8102176189422607,\n",
       " 0.8531703352928162,\n",
       " 1.0081496238708496,\n",
       " 1.0967068672180176,\n",
       " 1.067587971687317,\n",
       " 0.9801567792892456,\n",
       " 1.0349338054656982,\n",
       " 0.9200899600982666,\n",
       " 0.87721848487854,\n",
       " 0.8936070799827576,\n",
       " 0.9837409257888794,\n",
       " 1.043686032295227,\n",
       " 0.836641252040863,\n",
       " 0.897637665271759,\n",
       " 0.8959344029426575,\n",
       " 0.9439895749092102,\n",
       " 1.0503939390182495,\n",
       " 1.0356332063674927,\n",
       " 0.8866106867790222,\n",
       " 0.9236208200454712,\n",
       " 0.8603072166442871,\n",
       " 0.9255776405334473,\n",
       " 0.9390653371810913,\n",
       " 0.878433108329773,\n",
       " 0.9215973019599915,\n",
       " 0.9391813278198242,\n",
       " 0.8494154810905457,\n",
       " 0.9315508008003235,\n",
       " 1.0824635028839111,\n",
       " 1.0402528047561646,\n",
       " 0.8632962107658386,\n",
       " 1.0165833234786987,\n",
       " 0.9769788384437561,\n",
       " 0.9639310836791992,\n",
       " 1.03337824344635,\n",
       " 0.9673040509223938,\n",
       " 0.8244547247886658,\n",
       " 0.9395560622215271,\n",
       " 1.0073283910751343,\n",
       " 0.9205527901649475,\n",
       " 0.8870516419410706,\n",
       " 1.0210896730422974,\n",
       " 1.0326119661331177,\n",
       " 0.9569026231765747,\n",
       " 1.0335217714309692,\n",
       " 0.9524509906768799,\n",
       " 0.9478641748428345,\n",
       " 0.915242612361908,\n",
       " 0.9429656267166138,\n",
       " 0.8652893304824829,\n",
       " 0.9372833967208862,\n",
       " 0.895915687084198,\n",
       " 0.7895851731300354,\n",
       " 0.9414908289909363,\n",
       " 0.9290832281112671,\n",
       " 0.854053258895874,\n",
       " 0.7812470197677612,\n",
       " 0.8347193002700806,\n",
       " 0.9486832022666931,\n",
       " 0.8751720190048218,\n",
       " 0.8137998580932617,\n",
       " 0.85983806848526,\n",
       " 0.9153919816017151,\n",
       " 0.9042134284973145,\n",
       " 0.8016570806503296,\n",
       " 1.0229395627975464,\n",
       " 0.9849177002906799,\n",
       " 0.8581088185310364,\n",
       " 0.9720584750175476,\n",
       " 0.9940791130065918,\n",
       " 0.7965811491012573,\n",
       " 0.8694164156913757,\n",
       " 0.9333092570304871,\n",
       " 0.9151147603988647,\n",
       " 0.8653796911239624,\n",
       " 0.8320632576942444,\n",
       " 1.0011595487594604,\n",
       " 1.0158967971801758,\n",
       " 0.8863341212272644,\n",
       " 0.9176818132400513,\n",
       " 0.8997775912284851,\n",
       " 0.9615539312362671,\n",
       " 0.8124483823776245,\n",
       " 0.7781371474266052,\n",
       " 0.8911495208740234,\n",
       " 1.1104583740234375,\n",
       " 1.0169868469238281,\n",
       " 1.0313502550125122,\n",
       " 1.0331147909164429,\n",
       " 0.9525306224822998,\n",
       " 0.971810519695282,\n",
       " 0.8920947313308716,\n",
       " 0.8593544960021973,\n",
       " 0.9571124911308289,\n",
       " 0.9108394384384155,\n",
       " 0.8414358496665955,\n",
       " 1.0792903900146484,\n",
       " 1.0033005475997925,\n",
       " 0.9460136890411377,\n",
       " 1.020552396774292,\n",
       " 0.9977016448974609,\n",
       " 0.9455076456069946,\n",
       " 0.9997333884239197,\n",
       " 0.7958198189735413,\n",
       " 0.905117392539978,\n",
       " 0.8865640163421631,\n",
       " 0.9266219139099121,\n",
       " 0.924102783203125,\n",
       " 0.9124651551246643,\n",
       " 0.8609787821769714,\n",
       " 0.8563702702522278,\n",
       " 0.8775314688682556,\n",
       " 0.7430960536003113,\n",
       " 0.8848403096199036,\n",
       " 0.8680363893508911,\n",
       " 0.847037136554718,\n",
       " 0.9048452973365784,\n",
       " 0.964482843875885,\n",
       " 0.8501102924346924,\n",
       " 0.814080536365509,\n",
       " 0.7053974270820618,\n",
       " 0.8604565262794495,\n",
       " 1.1226733922958374,\n",
       " 1.081890344619751,\n",
       " 0.8929864168167114,\n",
       " 0.99664705991745,\n",
       " 0.9821370840072632,\n",
       " 0.9540518522262573,\n",
       " 0.9832707643508911,\n",
       " 1.025832176208496,\n",
       " 0.9421863555908203,\n",
       " 0.9342101812362671,\n",
       " 0.9889184236526489,\n",
       " 0.9018421769142151,\n",
       " 0.8843544721603394,\n",
       " 0.8983883857727051,\n",
       " 0.827133059501648,\n",
       " 0.9976241588592529,\n",
       " 0.8322774171829224,\n",
       " 0.8876670002937317,\n",
       " 0.8631060719490051,\n",
       " 0.9088247418403625,\n",
       " 1.0792222023010254,\n",
       " 0.8535099029541016,\n",
       " 0.9284559488296509,\n",
       " 0.8393380045890808,\n",
       " 0.9514968991279602,\n",
       " 0.9039775729179382,\n",
       " 0.9967008829116821,\n",
       " 0.8875470757484436,\n",
       " 1.0490610599517822,\n",
       " 0.7440347075462341,\n",
       " 0.931382417678833,\n",
       " 0.830041766166687,\n",
       " 0.8933347463607788,\n",
       " 0.7905017137527466,\n",
       " 0.8456643223762512,\n",
       " 0.9622851014137268,\n",
       " 0.9096421599388123,\n",
       " 0.946041464805603,\n",
       " 0.8726316690444946,\n",
       " 0.8815789222717285,\n",
       " 0.9115662574768066,\n",
       " 0.8056315183639526,\n",
       " 0.9411634802818298,\n",
       " 0.944883406162262,\n",
       " 0.7943575978279114,\n",
       " 0.902776837348938,\n",
       " 0.8112829923629761,\n",
       " 0.9811784625053406,\n",
       " 0.9857009649276733,\n",
       " 0.8308064341545105,\n",
       " 0.816818356513977,\n",
       " 0.935324490070343,\n",
       " 0.9022144675254822,\n",
       " 0.9407221078872681,\n",
       " 1.0465137958526611,\n",
       " 0.8614739179611206,\n",
       " 0.9375677704811096,\n",
       " 0.9384352564811707,\n",
       " 0.9052342176437378,\n",
       " 1.0321863889694214,\n",
       " 0.9494640231132507,\n",
       " 0.9133076071739197,\n",
       " 0.8562397360801697,\n",
       " 0.8563876748085022,\n",
       " 0.8115642666816711,\n",
       " 0.8188194632530212,\n",
       " 0.979253351688385,\n",
       " 1.037215232849121,\n",
       " 0.8731273412704468,\n",
       " 0.8451976180076599,\n",
       " 0.9962533116340637,\n",
       " 0.864883303642273,\n",
       " 0.9235022068023682,\n",
       " 0.8206294775009155,\n",
       " 0.7183986306190491,\n",
       " 0.8460585474967957,\n",
       " 0.9535037875175476,\n",
       " 1.0067826509475708,\n",
       " 1.0734496116638184,\n",
       " 0.8689882755279541,\n",
       " 0.8795931935310364,\n",
       " 0.9484349489212036,\n",
       " 0.9991422891616821]"
      ]
     },
     "execution_count": 46,
     "metadata": {},
     "output_type": "execute_result"
    }
   ],
   "source": [
    "mae_list"
   ]
  },
  {
   "cell_type": "code",
   "execution_count": 49,
   "id": "b024dd59",
   "metadata": {},
   "outputs": [
    {
     "data": {
      "text/plain": [
       "array([[ 0.4264918 ,  0.29288927, -1.0815362 ],\n",
       "       [ 1.3345457 ,  2.5796535 , -0.84776354],\n",
       "       [ 0.29947388,  0.541071  , -0.30678672],\n",
       "       [ 1.3772286 ,  2.3902788 , -1.5461023 ],\n",
       "       [ 0.29516244,  0.58793974, -0.02107689],\n",
       "       [ 2.1882806 ,  4.4701834 , -0.7977887 ],\n",
       "       [ 0.19925714,  0.582987  ,  0.23256782],\n",
       "       [ 2.034242  ,  4.0076685 , -1.3852389 ],\n",
       "       [ 0.2080574 ,  0.46520504,  0.6791181 ],\n",
       "       [ 2.394621  ,  3.6018586 , -1.678426  ],\n",
       "       [ 0.25667763,  0.5071036 ,  0.8460924 ],\n",
       "       [ 2.2385964 ,  3.2163734 , -2.1254668 ],\n",
       "       [-0.19900084,  0.24914762,  1.9576911 ],\n",
       "       [-0.45220846, -0.9360124 , -0.02621263],\n",
       "       [ 0.7260671 , -0.39092606, -3.0441835 ],\n",
       "       [ 1.1366374 ,  3.2367404 ,  1.0779711 ],\n",
       "       [ 2.2049713 ,  3.9087734 , -1.7275147 ],\n",
       "       [ 0.68066   ,  0.32262206,  0.00703704],\n",
       "       [-0.02740335,  0.8739431 , -0.19751358],\n",
       "       [ 1.4473557 ,  1.9312046 , -3.5150032 ],\n",
       "       [ 0.52098775,  1.1022935 , -0.6672917 ],\n",
       "       [ 0.18406153,  0.63656807, -0.05270678],\n",
       "       [ 0.42384934,  0.5388961 , -0.08587706],\n",
       "       [ 2.9976878 ,  5.826753  , -1.7293651 ],\n",
       "       [ 1.9750575 ,  4.9360857 ,  1.0937686 ],\n",
       "       [ 0.39107966,  0.53465456,  0.24903852],\n",
       "       [-0.01959181,  0.57687867,  0.20978975],\n",
       "       [ 2.23479   ,  3.7924294 , -1.5343381 ],\n",
       "       [ 1.490397  ,  4.114892  , -1.6471117 ],\n",
       "       [-0.04747343,  0.22733736,  0.81416076],\n",
       "       [ 0.48405457,  0.6532047 ,  0.8831237 ],\n",
       "       [ 2.2721238 ,  3.604799  , -1.6878328 ],\n",
       "       [ 2.7501724 ,  3.6527214 , -1.6684537 ],\n",
       "       [ 0.9610214 ,  1.0450242 ,  0.8275029 ],\n",
       "       [-0.0988493 ,  0.03267753,  0.17435092],\n",
       "       [ 1.7514977 ,  3.0194025 , -0.37735587],\n",
       "       [ 3.209971  ,  4.648209  , -2.9173746 ],\n",
       "       [ 1.6612959 ,  1.8167553 , -3.520385  ],\n",
       "       [ 0.8494806 , -0.7122749 ,  1.2621224 ],\n",
       "       [-0.80140305, -0.3500349 ,  3.915327  ],\n",
       "       [-1.1148367 ,  1.9613653 ,  1.5408344 ]], dtype=float32)"
      ]
     },
     "execution_count": 49,
     "metadata": {},
     "output_type": "execute_result"
    }
   ],
   "source": [
    "data[0].pos.numpy() - data[10].pos.numpy()"
   ]
  },
  {
   "cell_type": "markdown",
   "id": "54a873d0",
   "metadata": {},
   "source": [
    "### Ploting"
   ]
  },
  {
   "cell_type": "code",
   "execution_count": 173,
   "id": "6635dabc",
   "metadata": {},
   "outputs": [
    {
     "data": {
      "application/vnd.plotly.v1+json": {
       "config": {
        "plotlyServerURL": "https://plot.ly"
       },
       "data": [
        {
         "hovertemplate": "variable=MAE (Hartree)<br>Molecule=%{x}<br>value=%{y}<extra></extra>",
         "legendgroup": "MAE (Hartree)",
         "line": {
          "color": "#636efa",
          "dash": "solid"
         },
         "marker": {
          "size": 10,
          "symbol": "circle"
         },
         "mode": "markers+lines",
         "name": "MAE (Hartree)",
         "orientation": "v",
         "showlegend": true,
         "type": "scatter",
         "x": [
          "C2H6",
          "C3H8",
          "C4H10",
          "C5H12",
          "C6H14",
          "C7H16",
          "C8H18",
          "C9H20",
          "C10H22",
          "C11H24",
          "C12H26",
          "C13H28"
         ],
         "xaxis": "x",
         "y": {
          "bdata": "NDuq5O+rND9Cr8yD+0M3Pwt71sJUOjo/9NTPxMBmPD/7HH/oGak9P9xaInh8Mlg/1Geme+bzXT/fbtkCOsNgP93IZ7uDzWE/f3CcnY58ZD/0lCG6YxJmP7/943rgTmY/",
          "dtype": "f8"
         },
         "yaxis": "y"
        }
       ],
       "layout": {
        "font": {
         "size": 14
        },
        "legend": {
         "title": {
          "text": "variable"
         },
         "tracegroupgap": 0
        },
        "shapes": [
         {
          "fillcolor": "LightSkyBlue",
          "layer": "below",
          "line": {
           "width": 0
          },
          "opacity": 0.3,
          "type": "rect",
          "x0": -0.5,
          "x1": 4.5,
          "y0": 0.0002,
          "y1": 0.003
         },
         {
          "fillcolor": "LightCoral",
          "layer": "below",
          "line": {
           "width": 0
          },
          "opacity": 0.3,
          "type": "rect",
          "x0": 4.5,
          "x1": 11.5,
          "y0": 0.0002,
          "y1": 0.003
         }
        ],
        "template": {
         "data": {
          "bar": [
           {
            "error_x": {
             "color": "#2a3f5f"
            },
            "error_y": {
             "color": "#2a3f5f"
            },
            "marker": {
             "line": {
              "color": "white",
              "width": 0.5
             },
             "pattern": {
              "fillmode": "overlay",
              "size": 10,
              "solidity": 0.2
             }
            },
            "type": "bar"
           }
          ],
          "barpolar": [
           {
            "marker": {
             "line": {
              "color": "white",
              "width": 0.5
             },
             "pattern": {
              "fillmode": "overlay",
              "size": 10,
              "solidity": 0.2
             }
            },
            "type": "barpolar"
           }
          ],
          "carpet": [
           {
            "aaxis": {
             "endlinecolor": "#2a3f5f",
             "gridcolor": "#C8D4E3",
             "linecolor": "#C8D4E3",
             "minorgridcolor": "#C8D4E3",
             "startlinecolor": "#2a3f5f"
            },
            "baxis": {
             "endlinecolor": "#2a3f5f",
             "gridcolor": "#C8D4E3",
             "linecolor": "#C8D4E3",
             "minorgridcolor": "#C8D4E3",
             "startlinecolor": "#2a3f5f"
            },
            "type": "carpet"
           }
          ],
          "choropleth": [
           {
            "colorbar": {
             "outlinewidth": 0,
             "ticks": ""
            },
            "type": "choropleth"
           }
          ],
          "contour": [
           {
            "colorbar": {
             "outlinewidth": 0,
             "ticks": ""
            },
            "colorscale": [
             [
              0,
              "#0d0887"
             ],
             [
              0.1111111111111111,
              "#46039f"
             ],
             [
              0.2222222222222222,
              "#7201a8"
             ],
             [
              0.3333333333333333,
              "#9c179e"
             ],
             [
              0.4444444444444444,
              "#bd3786"
             ],
             [
              0.5555555555555556,
              "#d8576b"
             ],
             [
              0.6666666666666666,
              "#ed7953"
             ],
             [
              0.7777777777777778,
              "#fb9f3a"
             ],
             [
              0.8888888888888888,
              "#fdca26"
             ],
             [
              1,
              "#f0f921"
             ]
            ],
            "type": "contour"
           }
          ],
          "contourcarpet": [
           {
            "colorbar": {
             "outlinewidth": 0,
             "ticks": ""
            },
            "type": "contourcarpet"
           }
          ],
          "heatmap": [
           {
            "colorbar": {
             "outlinewidth": 0,
             "ticks": ""
            },
            "colorscale": [
             [
              0,
              "#0d0887"
             ],
             [
              0.1111111111111111,
              "#46039f"
             ],
             [
              0.2222222222222222,
              "#7201a8"
             ],
             [
              0.3333333333333333,
              "#9c179e"
             ],
             [
              0.4444444444444444,
              "#bd3786"
             ],
             [
              0.5555555555555556,
              "#d8576b"
             ],
             [
              0.6666666666666666,
              "#ed7953"
             ],
             [
              0.7777777777777778,
              "#fb9f3a"
             ],
             [
              0.8888888888888888,
              "#fdca26"
             ],
             [
              1,
              "#f0f921"
             ]
            ],
            "type": "heatmap"
           }
          ],
          "histogram": [
           {
            "marker": {
             "pattern": {
              "fillmode": "overlay",
              "size": 10,
              "solidity": 0.2
             }
            },
            "type": "histogram"
           }
          ],
          "histogram2d": [
           {
            "colorbar": {
             "outlinewidth": 0,
             "ticks": ""
            },
            "colorscale": [
             [
              0,
              "#0d0887"
             ],
             [
              0.1111111111111111,
              "#46039f"
             ],
             [
              0.2222222222222222,
              "#7201a8"
             ],
             [
              0.3333333333333333,
              "#9c179e"
             ],
             [
              0.4444444444444444,
              "#bd3786"
             ],
             [
              0.5555555555555556,
              "#d8576b"
             ],
             [
              0.6666666666666666,
              "#ed7953"
             ],
             [
              0.7777777777777778,
              "#fb9f3a"
             ],
             [
              0.8888888888888888,
              "#fdca26"
             ],
             [
              1,
              "#f0f921"
             ]
            ],
            "type": "histogram2d"
           }
          ],
          "histogram2dcontour": [
           {
            "colorbar": {
             "outlinewidth": 0,
             "ticks": ""
            },
            "colorscale": [
             [
              0,
              "#0d0887"
             ],
             [
              0.1111111111111111,
              "#46039f"
             ],
             [
              0.2222222222222222,
              "#7201a8"
             ],
             [
              0.3333333333333333,
              "#9c179e"
             ],
             [
              0.4444444444444444,
              "#bd3786"
             ],
             [
              0.5555555555555556,
              "#d8576b"
             ],
             [
              0.6666666666666666,
              "#ed7953"
             ],
             [
              0.7777777777777778,
              "#fb9f3a"
             ],
             [
              0.8888888888888888,
              "#fdca26"
             ],
             [
              1,
              "#f0f921"
             ]
            ],
            "type": "histogram2dcontour"
           }
          ],
          "mesh3d": [
           {
            "colorbar": {
             "outlinewidth": 0,
             "ticks": ""
            },
            "type": "mesh3d"
           }
          ],
          "parcoords": [
           {
            "line": {
             "colorbar": {
              "outlinewidth": 0,
              "ticks": ""
             }
            },
            "type": "parcoords"
           }
          ],
          "pie": [
           {
            "automargin": true,
            "type": "pie"
           }
          ],
          "scatter": [
           {
            "fillpattern": {
             "fillmode": "overlay",
             "size": 10,
             "solidity": 0.2
            },
            "type": "scatter"
           }
          ],
          "scatter3d": [
           {
            "line": {
             "colorbar": {
              "outlinewidth": 0,
              "ticks": ""
             }
            },
            "marker": {
             "colorbar": {
              "outlinewidth": 0,
              "ticks": ""
             }
            },
            "type": "scatter3d"
           }
          ],
          "scattercarpet": [
           {
            "marker": {
             "colorbar": {
              "outlinewidth": 0,
              "ticks": ""
             }
            },
            "type": "scattercarpet"
           }
          ],
          "scattergeo": [
           {
            "marker": {
             "colorbar": {
              "outlinewidth": 0,
              "ticks": ""
             }
            },
            "type": "scattergeo"
           }
          ],
          "scattergl": [
           {
            "marker": {
             "colorbar": {
              "outlinewidth": 0,
              "ticks": ""
             }
            },
            "type": "scattergl"
           }
          ],
          "scattermap": [
           {
            "marker": {
             "colorbar": {
              "outlinewidth": 0,
              "ticks": ""
             }
            },
            "type": "scattermap"
           }
          ],
          "scattermapbox": [
           {
            "marker": {
             "colorbar": {
              "outlinewidth": 0,
              "ticks": ""
             }
            },
            "type": "scattermapbox"
           }
          ],
          "scatterpolar": [
           {
            "marker": {
             "colorbar": {
              "outlinewidth": 0,
              "ticks": ""
             }
            },
            "type": "scatterpolar"
           }
          ],
          "scatterpolargl": [
           {
            "marker": {
             "colorbar": {
              "outlinewidth": 0,
              "ticks": ""
             }
            },
            "type": "scatterpolargl"
           }
          ],
          "scatterternary": [
           {
            "marker": {
             "colorbar": {
              "outlinewidth": 0,
              "ticks": ""
             }
            },
            "type": "scatterternary"
           }
          ],
          "surface": [
           {
            "colorbar": {
             "outlinewidth": 0,
             "ticks": ""
            },
            "colorscale": [
             [
              0,
              "#0d0887"
             ],
             [
              0.1111111111111111,
              "#46039f"
             ],
             [
              0.2222222222222222,
              "#7201a8"
             ],
             [
              0.3333333333333333,
              "#9c179e"
             ],
             [
              0.4444444444444444,
              "#bd3786"
             ],
             [
              0.5555555555555556,
              "#d8576b"
             ],
             [
              0.6666666666666666,
              "#ed7953"
             ],
             [
              0.7777777777777778,
              "#fb9f3a"
             ],
             [
              0.8888888888888888,
              "#fdca26"
             ],
             [
              1,
              "#f0f921"
             ]
            ],
            "type": "surface"
           }
          ],
          "table": [
           {
            "cells": {
             "fill": {
              "color": "#EBF0F8"
             },
             "line": {
              "color": "white"
             }
            },
            "header": {
             "fill": {
              "color": "#C8D4E3"
             },
             "line": {
              "color": "white"
             }
            },
            "type": "table"
           }
          ]
         },
         "layout": {
          "annotationdefaults": {
           "arrowcolor": "#2a3f5f",
           "arrowhead": 0,
           "arrowwidth": 1
          },
          "autotypenumbers": "strict",
          "coloraxis": {
           "colorbar": {
            "outlinewidth": 0,
            "ticks": ""
           }
          },
          "colorscale": {
           "diverging": [
            [
             0,
             "#8e0152"
            ],
            [
             0.1,
             "#c51b7d"
            ],
            [
             0.2,
             "#de77ae"
            ],
            [
             0.3,
             "#f1b6da"
            ],
            [
             0.4,
             "#fde0ef"
            ],
            [
             0.5,
             "#f7f7f7"
            ],
            [
             0.6,
             "#e6f5d0"
            ],
            [
             0.7,
             "#b8e186"
            ],
            [
             0.8,
             "#7fbc41"
            ],
            [
             0.9,
             "#4d9221"
            ],
            [
             1,
             "#276419"
            ]
           ],
           "sequential": [
            [
             0,
             "#0d0887"
            ],
            [
             0.1111111111111111,
             "#46039f"
            ],
            [
             0.2222222222222222,
             "#7201a8"
            ],
            [
             0.3333333333333333,
             "#9c179e"
            ],
            [
             0.4444444444444444,
             "#bd3786"
            ],
            [
             0.5555555555555556,
             "#d8576b"
            ],
            [
             0.6666666666666666,
             "#ed7953"
            ],
            [
             0.7777777777777778,
             "#fb9f3a"
            ],
            [
             0.8888888888888888,
             "#fdca26"
            ],
            [
             1,
             "#f0f921"
            ]
           ],
           "sequentialminus": [
            [
             0,
             "#0d0887"
            ],
            [
             0.1111111111111111,
             "#46039f"
            ],
            [
             0.2222222222222222,
             "#7201a8"
            ],
            [
             0.3333333333333333,
             "#9c179e"
            ],
            [
             0.4444444444444444,
             "#bd3786"
            ],
            [
             0.5555555555555556,
             "#d8576b"
            ],
            [
             0.6666666666666666,
             "#ed7953"
            ],
            [
             0.7777777777777778,
             "#fb9f3a"
            ],
            [
             0.8888888888888888,
             "#fdca26"
            ],
            [
             1,
             "#f0f921"
            ]
           ]
          },
          "colorway": [
           "#636efa",
           "#EF553B",
           "#00cc96",
           "#ab63fa",
           "#FFA15A",
           "#19d3f3",
           "#FF6692",
           "#B6E880",
           "#FF97FF",
           "#FECB52"
          ],
          "font": {
           "color": "#2a3f5f"
          },
          "geo": {
           "bgcolor": "white",
           "lakecolor": "white",
           "landcolor": "white",
           "showlakes": true,
           "showland": true,
           "subunitcolor": "#C8D4E3"
          },
          "hoverlabel": {
           "align": "left"
          },
          "hovermode": "closest",
          "mapbox": {
           "style": "light"
          },
          "paper_bgcolor": "white",
          "plot_bgcolor": "white",
          "polar": {
           "angularaxis": {
            "gridcolor": "#EBF0F8",
            "linecolor": "#EBF0F8",
            "ticks": ""
           },
           "bgcolor": "white",
           "radialaxis": {
            "gridcolor": "#EBF0F8",
            "linecolor": "#EBF0F8",
            "ticks": ""
           }
          },
          "scene": {
           "xaxis": {
            "backgroundcolor": "white",
            "gridcolor": "#DFE8F3",
            "gridwidth": 2,
            "linecolor": "#EBF0F8",
            "showbackground": true,
            "ticks": "",
            "zerolinecolor": "#EBF0F8"
           },
           "yaxis": {
            "backgroundcolor": "white",
            "gridcolor": "#DFE8F3",
            "gridwidth": 2,
            "linecolor": "#EBF0F8",
            "showbackground": true,
            "ticks": "",
            "zerolinecolor": "#EBF0F8"
           },
           "zaxis": {
            "backgroundcolor": "white",
            "gridcolor": "#DFE8F3",
            "gridwidth": 2,
            "linecolor": "#EBF0F8",
            "showbackground": true,
            "ticks": "",
            "zerolinecolor": "#EBF0F8"
           }
          },
          "shapedefaults": {
           "line": {
            "color": "#2a3f5f"
           }
          },
          "ternary": {
           "aaxis": {
            "gridcolor": "#DFE8F3",
            "linecolor": "#A2B1C6",
            "ticks": ""
           },
           "baxis": {
            "gridcolor": "#DFE8F3",
            "linecolor": "#A2B1C6",
            "ticks": ""
           },
           "bgcolor": "white",
           "caxis": {
            "gridcolor": "#DFE8F3",
            "linecolor": "#A2B1C6",
            "ticks": ""
           }
          },
          "title": {
           "x": 0.05
          },
          "xaxis": {
           "automargin": true,
           "gridcolor": "#EBF0F8",
           "linecolor": "#EBF0F8",
           "ticks": "",
           "title": {
            "standoff": 15
           },
           "zerolinecolor": "#EBF0F8",
           "zerolinewidth": 2
          },
          "yaxis": {
           "automargin": true,
           "gridcolor": "#EBF0F8",
           "linecolor": "#EBF0F8",
           "ticks": "",
           "title": {
            "standoff": 15
           },
           "zerolinecolor": "#EBF0F8",
           "zerolinewidth": 2
          }
         }
        },
        "title": {
         "text": "Force Prediction Metrics per Molecule"
        },
        "xaxis": {
         "anchor": "y",
         "domain": [
          0,
          1
         ],
         "tickangle": 45,
         "title": {
          "text": "Molecule"
         }
        },
        "yaxis": {
         "anchor": "x",
         "domain": [
          0,
          1
         ],
         "range": [
          0.0002,
          0.003
         ],
         "tickformat": ".5f",
         "title": {
          "text": "Mean Absolute Error (Hartree)"
         }
        }
       }
      }
     },
     "metadata": {},
     "output_type": "display_data"
    }
   ],
   "source": [
    "# Load the csv file and plot a line plot with plotly\n",
    "import pandas as pd\n",
    "import plotly.express as px\n",
    "results_df = pd.read_csv(\"force_metrics_results.csv\")\n",
    "fig = px.line(results_df, x=\"Molecule\", y=[\"MAE (Hartree)\"], # , \"Mean Cosine Sim\", \"Mean Force Mag\"\n",
    "              title=\"Force Prediction Metrics per Molecule\",\n",
    "              labels={\"MAE (Hartree)\": \"Mean Absolute Error (Hartree)\", \"Molecule\": \"Molecule\"})\n",
    "\n",
    "# Set Y-axis range to focus on the specified data range and precision\n",
    "y_min = 0.0002\n",
    "y_max = 0.0030\n",
    "fig.update_yaxes(tickformat=\".5f\", range=[y_min, y_max])\n",
    "\n",
    "# Put a box on first 5 molecules\n",
    "fig.update_traces(mode='markers+lines', marker=dict(size=10))\n",
    "\n",
    "# Get the number of molecules for proper indexing\n",
    "num_molecules = len(results_df)\n",
    "\n",
    "# Set a background color for first 5 molecules (C2H6 to C6H14)\n",
    "fig.add_shape(type=\"rect\",\n",
    "              x0=-0.5, x1=4.5, y0=y_min, y1=y_max,\n",
    "              fillcolor=\"LightSkyBlue\", opacity=0.3,\n",
    "              layer=\"below\", line_width=0)\n",
    "\n",
    "# Set another box on last 7 molecules (C7H16 to C13H28)\n",
    "fig.add_shape(type=\"rect\",\n",
    "              x0=4.5, x1=num_molecules-0.5, y0=y_min, y1=y_max,\n",
    "              fillcolor=\"LightCoral\", opacity=0.3,\n",
    "              layer=\"below\", line_width=0)\n",
    "\n",
    "fig.update_layout(xaxis_title=\"Molecule\", yaxis_title=\"Mean Absolute Error (Hartree)\")\n",
    "# Set a theme for academic publication\n",
    "fig.update_layout(template=\"plotly_white\", font=dict(size=14))\n",
    "\n",
    "# Rotate x-axis labels for better readability\n",
    "fig.update_xaxes(tickangle=45)\n",
    "\n",
    "fig.show()\n",
    "# fig.write_html(\"force_metrics_results.html\")\n",
    "# fig.write_image(\"force_metrics_results.png\")"
   ]
  },
  {
   "cell_type": "code",
   "execution_count": 161,
   "id": "174f5b02",
   "metadata": {},
   "outputs": [
    {
     "data": {
      "text/plain": [
       "0     1.000000\n",
       "1     1.000000\n",
       "2     1.000000\n",
       "3     1.000000\n",
       "4     1.000000\n",
       "5     0.999940\n",
       "6     0.999959\n",
       "7     0.999975\n",
       "8     0.999970\n",
       "9     0.999942\n",
       "10    0.999929\n",
       "11    0.999919\n",
       "Name: Mean Cosine Sim, dtype: float64"
      ]
     },
     "execution_count": 161,
     "metadata": {},
     "output_type": "execute_result"
    }
   ],
   "source": [
    "results_df[\"Mean Cosine Sim\"]"
   ]
  },
  {
   "cell_type": "code",
   "execution_count": 176,
   "id": "3cdb084a",
   "metadata": {},
   "outputs": [
    {
     "data": {
      "application/vnd.plotly.v1+json": {
       "config": {
        "plotlyServerURL": "https://plot.ly"
       },
       "data": [
        {
         "hovertemplate": "variable=Mean Cosine Sim<br>Molecule=%{x}<br>value=%{y}<extra></extra>",
         "legendgroup": "Mean Cosine Sim",
         "line": {
          "color": "#636efa",
          "dash": "solid"
         },
         "marker": {
          "size": 10,
          "symbol": "circle"
         },
         "mode": "markers+lines",
         "name": "Mean Cosine Sim",
         "orientation": "v",
         "showlegend": true,
         "type": "scatter",
         "x": [
          "C2H6",
          "C3H8",
          "C4H10",
          "C5H12",
          "C6H14",
          "C7H16",
          "C8H18",
          "C9H20",
          "C10H22",
          "C11H24",
          "C12H26",
          "C13H28"
         ],
         "xaxis": "x",
         "y": {
          "bdata": "R8Omtv//7z8HLyCL///vP6hVIlD//+8/DiSzJ///7z8IrA0Z///vP9kYMyCC/+8/Wgj1t6r/7z8+NlWUzP/vP/Cb1W7A/+8/+CwFYYX/7z83stlUa//vPxpxMq5V/+8/",
          "dtype": "f8"
         },
         "yaxis": "y"
        }
       ],
       "layout": {
        "font": {
         "size": 14
        },
        "legend": {
         "title": {
          "text": "variable"
         },
         "tracegroupgap": 0
        },
        "shapes": [
         {
          "fillcolor": "LightSkyBlue",
          "layer": "below",
          "line": {
           "width": 0
          },
          "opacity": 0.5,
          "type": "rect",
          "x0": -0.5,
          "x1": 4.5,
          "y0": 0.999913785719289,
          "y1": 1.000004863376935
         },
         {
          "fillcolor": "LightCoral",
          "layer": "below",
          "line": {
           "width": 0
          },
          "opacity": 0.5,
          "type": "rect",
          "x0": 4.5,
          "x1": 11.5,
          "y0": 0.999913785719289,
          "y1": 1.000004863376935
         }
        ],
        "template": {
         "data": {
          "bar": [
           {
            "error_x": {
             "color": "#2a3f5f"
            },
            "error_y": {
             "color": "#2a3f5f"
            },
            "marker": {
             "line": {
              "color": "white",
              "width": 0.5
             },
             "pattern": {
              "fillmode": "overlay",
              "size": 10,
              "solidity": 0.2
             }
            },
            "type": "bar"
           }
          ],
          "barpolar": [
           {
            "marker": {
             "line": {
              "color": "white",
              "width": 0.5
             },
             "pattern": {
              "fillmode": "overlay",
              "size": 10,
              "solidity": 0.2
             }
            },
            "type": "barpolar"
           }
          ],
          "carpet": [
           {
            "aaxis": {
             "endlinecolor": "#2a3f5f",
             "gridcolor": "#C8D4E3",
             "linecolor": "#C8D4E3",
             "minorgridcolor": "#C8D4E3",
             "startlinecolor": "#2a3f5f"
            },
            "baxis": {
             "endlinecolor": "#2a3f5f",
             "gridcolor": "#C8D4E3",
             "linecolor": "#C8D4E3",
             "minorgridcolor": "#C8D4E3",
             "startlinecolor": "#2a3f5f"
            },
            "type": "carpet"
           }
          ],
          "choropleth": [
           {
            "colorbar": {
             "outlinewidth": 0,
             "ticks": ""
            },
            "type": "choropleth"
           }
          ],
          "contour": [
           {
            "colorbar": {
             "outlinewidth": 0,
             "ticks": ""
            },
            "colorscale": [
             [
              0,
              "#0d0887"
             ],
             [
              0.1111111111111111,
              "#46039f"
             ],
             [
              0.2222222222222222,
              "#7201a8"
             ],
             [
              0.3333333333333333,
              "#9c179e"
             ],
             [
              0.4444444444444444,
              "#bd3786"
             ],
             [
              0.5555555555555556,
              "#d8576b"
             ],
             [
              0.6666666666666666,
              "#ed7953"
             ],
             [
              0.7777777777777778,
              "#fb9f3a"
             ],
             [
              0.8888888888888888,
              "#fdca26"
             ],
             [
              1,
              "#f0f921"
             ]
            ],
            "type": "contour"
           }
          ],
          "contourcarpet": [
           {
            "colorbar": {
             "outlinewidth": 0,
             "ticks": ""
            },
            "type": "contourcarpet"
           }
          ],
          "heatmap": [
           {
            "colorbar": {
             "outlinewidth": 0,
             "ticks": ""
            },
            "colorscale": [
             [
              0,
              "#0d0887"
             ],
             [
              0.1111111111111111,
              "#46039f"
             ],
             [
              0.2222222222222222,
              "#7201a8"
             ],
             [
              0.3333333333333333,
              "#9c179e"
             ],
             [
              0.4444444444444444,
              "#bd3786"
             ],
             [
              0.5555555555555556,
              "#d8576b"
             ],
             [
              0.6666666666666666,
              "#ed7953"
             ],
             [
              0.7777777777777778,
              "#fb9f3a"
             ],
             [
              0.8888888888888888,
              "#fdca26"
             ],
             [
              1,
              "#f0f921"
             ]
            ],
            "type": "heatmap"
           }
          ],
          "histogram": [
           {
            "marker": {
             "pattern": {
              "fillmode": "overlay",
              "size": 10,
              "solidity": 0.2
             }
            },
            "type": "histogram"
           }
          ],
          "histogram2d": [
           {
            "colorbar": {
             "outlinewidth": 0,
             "ticks": ""
            },
            "colorscale": [
             [
              0,
              "#0d0887"
             ],
             [
              0.1111111111111111,
              "#46039f"
             ],
             [
              0.2222222222222222,
              "#7201a8"
             ],
             [
              0.3333333333333333,
              "#9c179e"
             ],
             [
              0.4444444444444444,
              "#bd3786"
             ],
             [
              0.5555555555555556,
              "#d8576b"
             ],
             [
              0.6666666666666666,
              "#ed7953"
             ],
             [
              0.7777777777777778,
              "#fb9f3a"
             ],
             [
              0.8888888888888888,
              "#fdca26"
             ],
             [
              1,
              "#f0f921"
             ]
            ],
            "type": "histogram2d"
           }
          ],
          "histogram2dcontour": [
           {
            "colorbar": {
             "outlinewidth": 0,
             "ticks": ""
            },
            "colorscale": [
             [
              0,
              "#0d0887"
             ],
             [
              0.1111111111111111,
              "#46039f"
             ],
             [
              0.2222222222222222,
              "#7201a8"
             ],
             [
              0.3333333333333333,
              "#9c179e"
             ],
             [
              0.4444444444444444,
              "#bd3786"
             ],
             [
              0.5555555555555556,
              "#d8576b"
             ],
             [
              0.6666666666666666,
              "#ed7953"
             ],
             [
              0.7777777777777778,
              "#fb9f3a"
             ],
             [
              0.8888888888888888,
              "#fdca26"
             ],
             [
              1,
              "#f0f921"
             ]
            ],
            "type": "histogram2dcontour"
           }
          ],
          "mesh3d": [
           {
            "colorbar": {
             "outlinewidth": 0,
             "ticks": ""
            },
            "type": "mesh3d"
           }
          ],
          "parcoords": [
           {
            "line": {
             "colorbar": {
              "outlinewidth": 0,
              "ticks": ""
             }
            },
            "type": "parcoords"
           }
          ],
          "pie": [
           {
            "automargin": true,
            "type": "pie"
           }
          ],
          "scatter": [
           {
            "fillpattern": {
             "fillmode": "overlay",
             "size": 10,
             "solidity": 0.2
            },
            "type": "scatter"
           }
          ],
          "scatter3d": [
           {
            "line": {
             "colorbar": {
              "outlinewidth": 0,
              "ticks": ""
             }
            },
            "marker": {
             "colorbar": {
              "outlinewidth": 0,
              "ticks": ""
             }
            },
            "type": "scatter3d"
           }
          ],
          "scattercarpet": [
           {
            "marker": {
             "colorbar": {
              "outlinewidth": 0,
              "ticks": ""
             }
            },
            "type": "scattercarpet"
           }
          ],
          "scattergeo": [
           {
            "marker": {
             "colorbar": {
              "outlinewidth": 0,
              "ticks": ""
             }
            },
            "type": "scattergeo"
           }
          ],
          "scattergl": [
           {
            "marker": {
             "colorbar": {
              "outlinewidth": 0,
              "ticks": ""
             }
            },
            "type": "scattergl"
           }
          ],
          "scattermap": [
           {
            "marker": {
             "colorbar": {
              "outlinewidth": 0,
              "ticks": ""
             }
            },
            "type": "scattermap"
           }
          ],
          "scattermapbox": [
           {
            "marker": {
             "colorbar": {
              "outlinewidth": 0,
              "ticks": ""
             }
            },
            "type": "scattermapbox"
           }
          ],
          "scatterpolar": [
           {
            "marker": {
             "colorbar": {
              "outlinewidth": 0,
              "ticks": ""
             }
            },
            "type": "scatterpolar"
           }
          ],
          "scatterpolargl": [
           {
            "marker": {
             "colorbar": {
              "outlinewidth": 0,
              "ticks": ""
             }
            },
            "type": "scatterpolargl"
           }
          ],
          "scatterternary": [
           {
            "marker": {
             "colorbar": {
              "outlinewidth": 0,
              "ticks": ""
             }
            },
            "type": "scatterternary"
           }
          ],
          "surface": [
           {
            "colorbar": {
             "outlinewidth": 0,
             "ticks": ""
            },
            "colorscale": [
             [
              0,
              "#0d0887"
             ],
             [
              0.1111111111111111,
              "#46039f"
             ],
             [
              0.2222222222222222,
              "#7201a8"
             ],
             [
              0.3333333333333333,
              "#9c179e"
             ],
             [
              0.4444444444444444,
              "#bd3786"
             ],
             [
              0.5555555555555556,
              "#d8576b"
             ],
             [
              0.6666666666666666,
              "#ed7953"
             ],
             [
              0.7777777777777778,
              "#fb9f3a"
             ],
             [
              0.8888888888888888,
              "#fdca26"
             ],
             [
              1,
              "#f0f921"
             ]
            ],
            "type": "surface"
           }
          ],
          "table": [
           {
            "cells": {
             "fill": {
              "color": "#EBF0F8"
             },
             "line": {
              "color": "white"
             }
            },
            "header": {
             "fill": {
              "color": "#C8D4E3"
             },
             "line": {
              "color": "white"
             }
            },
            "type": "table"
           }
          ]
         },
         "layout": {
          "annotationdefaults": {
           "arrowcolor": "#2a3f5f",
           "arrowhead": 0,
           "arrowwidth": 1
          },
          "autotypenumbers": "strict",
          "coloraxis": {
           "colorbar": {
            "outlinewidth": 0,
            "ticks": ""
           }
          },
          "colorscale": {
           "diverging": [
            [
             0,
             "#8e0152"
            ],
            [
             0.1,
             "#c51b7d"
            ],
            [
             0.2,
             "#de77ae"
            ],
            [
             0.3,
             "#f1b6da"
            ],
            [
             0.4,
             "#fde0ef"
            ],
            [
             0.5,
             "#f7f7f7"
            ],
            [
             0.6,
             "#e6f5d0"
            ],
            [
             0.7,
             "#b8e186"
            ],
            [
             0.8,
             "#7fbc41"
            ],
            [
             0.9,
             "#4d9221"
            ],
            [
             1,
             "#276419"
            ]
           ],
           "sequential": [
            [
             0,
             "#0d0887"
            ],
            [
             0.1111111111111111,
             "#46039f"
            ],
            [
             0.2222222222222222,
             "#7201a8"
            ],
            [
             0.3333333333333333,
             "#9c179e"
            ],
            [
             0.4444444444444444,
             "#bd3786"
            ],
            [
             0.5555555555555556,
             "#d8576b"
            ],
            [
             0.6666666666666666,
             "#ed7953"
            ],
            [
             0.7777777777777778,
             "#fb9f3a"
            ],
            [
             0.8888888888888888,
             "#fdca26"
            ],
            [
             1,
             "#f0f921"
            ]
           ],
           "sequentialminus": [
            [
             0,
             "#0d0887"
            ],
            [
             0.1111111111111111,
             "#46039f"
            ],
            [
             0.2222222222222222,
             "#7201a8"
            ],
            [
             0.3333333333333333,
             "#9c179e"
            ],
            [
             0.4444444444444444,
             "#bd3786"
            ],
            [
             0.5555555555555556,
             "#d8576b"
            ],
            [
             0.6666666666666666,
             "#ed7953"
            ],
            [
             0.7777777777777778,
             "#fb9f3a"
            ],
            [
             0.8888888888888888,
             "#fdca26"
            ],
            [
             1,
             "#f0f921"
            ]
           ]
          },
          "colorway": [
           "#636efa",
           "#EF553B",
           "#00cc96",
           "#ab63fa",
           "#FFA15A",
           "#19d3f3",
           "#FF6692",
           "#B6E880",
           "#FF97FF",
           "#FECB52"
          ],
          "font": {
           "color": "#2a3f5f"
          },
          "geo": {
           "bgcolor": "white",
           "lakecolor": "white",
           "landcolor": "white",
           "showlakes": true,
           "showland": true,
           "subunitcolor": "#C8D4E3"
          },
          "hoverlabel": {
           "align": "left"
          },
          "hovermode": "closest",
          "mapbox": {
           "style": "light"
          },
          "paper_bgcolor": "white",
          "plot_bgcolor": "white",
          "polar": {
           "angularaxis": {
            "gridcolor": "#EBF0F8",
            "linecolor": "#EBF0F8",
            "ticks": ""
           },
           "bgcolor": "white",
           "radialaxis": {
            "gridcolor": "#EBF0F8",
            "linecolor": "#EBF0F8",
            "ticks": ""
           }
          },
          "scene": {
           "xaxis": {
            "backgroundcolor": "white",
            "gridcolor": "#DFE8F3",
            "gridwidth": 2,
            "linecolor": "#EBF0F8",
            "showbackground": true,
            "ticks": "",
            "zerolinecolor": "#EBF0F8"
           },
           "yaxis": {
            "backgroundcolor": "white",
            "gridcolor": "#DFE8F3",
            "gridwidth": 2,
            "linecolor": "#EBF0F8",
            "showbackground": true,
            "ticks": "",
            "zerolinecolor": "#EBF0F8"
           },
           "zaxis": {
            "backgroundcolor": "white",
            "gridcolor": "#DFE8F3",
            "gridwidth": 2,
            "linecolor": "#EBF0F8",
            "showbackground": true,
            "ticks": "",
            "zerolinecolor": "#EBF0F8"
           }
          },
          "shapedefaults": {
           "line": {
            "color": "#2a3f5f"
           }
          },
          "ternary": {
           "aaxis": {
            "gridcolor": "#DFE8F3",
            "linecolor": "#A2B1C6",
            "ticks": ""
           },
           "baxis": {
            "gridcolor": "#DFE8F3",
            "linecolor": "#A2B1C6",
            "ticks": ""
           },
           "bgcolor": "white",
           "caxis": {
            "gridcolor": "#DFE8F3",
            "linecolor": "#A2B1C6",
            "ticks": ""
           }
          },
          "title": {
           "x": 0.05
          },
          "xaxis": {
           "automargin": true,
           "gridcolor": "#EBF0F8",
           "linecolor": "#EBF0F8",
           "ticks": "",
           "title": {
            "standoff": 15
           },
           "zerolinecolor": "#EBF0F8",
           "zerolinewidth": 2
          },
          "yaxis": {
           "automargin": true,
           "gridcolor": "#EBF0F8",
           "linecolor": "#EBF0F8",
           "ticks": "",
           "title": {
            "standoff": 15
           },
           "zerolinecolor": "#EBF0F8",
           "zerolinewidth": 2
          }
         }
        },
        "title": {
         "text": "Force Prediction Metrics per Molecule"
        },
        "xaxis": {
         "anchor": "y",
         "domain": [
          0,
          1
         ],
         "title": {
          "text": "Molecule"
         }
        },
        "yaxis": {
         "anchor": "x",
         "domain": [
          0,
          1
         ],
         "range": [
          0.999913785719289,
          1.000004863376935
         ],
         "tickformat": ".5f",
         "title": {
          "text": "Mean Cosine Similarity"
         }
        }
       }
      }
     },
     "metadata": {},
     "output_type": "display_data"
    }
   ],
   "source": [
    "# Load the csv file and create subplots with plotly\n",
    "import pandas as pd\n",
    "import plotly.express as px\n",
    "from plotly.subplots import make_subplots\n",
    "import plotly.graph_objects as go\n",
    "\n",
    "results_df = pd.read_csv(\"force_metrics_results.csv\")\n",
    "\n",
    "# Create subplots with secondary y-axis or separate subplots\n",
    "# Option 1: Vertically stacked subplots\n",
    "fig = make_subplots(\n",
    "    rows=2, cols=1,\n",
    "    subplot_titles=('Mean Absolute Error (Hartree)', 'Mean Cosine Similarity'),\n",
    "    vertical_spacing=0.1\n",
    ")\n",
    "\n",
    "# Get the number of molecules for proper indexing\n",
    "num_molecules = len(results_df)\n",
    "\n",
    "# Add MAE plot to first subplot\n",
    "fig.add_trace(\n",
    "    go.Scatter(x=results_df[\"Molecule\"], y=results_df[\"MAE (Hartree)\"],\n",
    "               mode='markers+lines', marker=dict(size=10),\n",
    "               name=\"MAE\", line=dict(color='blue')),\n",
    "    row=1, col=1\n",
    ")\n",
    "\n",
    "# Add Mean Cosine Sim plot to second subplot\n",
    "fig.add_trace(\n",
    "    go.Scatter(x=results_df[\"Molecule\"], y=results_df[\"Mean Cosine Sim\"],\n",
    "               mode='markers+lines', marker=dict(size=10),\n",
    "               name=\"Cosine Sim\", line=dict(color='red')),\n",
    "    row=2, col=1\n",
    ")\n",
    "\n",
    "# Set Y-axis ranges for each subplot\n",
    "# MAE subplot\n",
    "y_min_mae = 0.0002\n",
    "y_max_mae = 0.0030\n",
    "fig.update_yaxes(tickformat=\".5f\", range=[y_min_mae, y_max_mae], row=1, col=1)\n",
    "\n",
    "# Cosine Sim subplot\n",
    "y_min_cos = results_df[\"Mean Cosine Sim\"].min() * 0.999995\n",
    "y_max_cos = results_df[\"Mean Cosine Sim\"].max() * 1.000005\n",
    "fig.update_yaxes(tickformat=\".8f\", range=[y_min_cos, y_max_cos], row=2, col=1)\n",
    "\n",
    "# Add background rectangles for MAE subplot\n",
    "fig.add_shape(type=\"rect\",\n",
    "              x0=-0.5, x1=4.5, y0=y_min_mae, y1=y_max_mae,\n",
    "              fillcolor=\"LightSkyBlue\", opacity=0.3,\n",
    "              layer=\"below\", line_width=0, row=1, col=1)\n",
    "fig.add_shape(type=\"rect\",\n",
    "              x0=4.5, x1=num_molecules-0.5, y0=y_min_mae, y1=y_max_mae,\n",
    "              fillcolor=\"LightCoral\", opacity=0.3,\n",
    "              layer=\"below\", line_width=0, row=1, col=1)\n",
    "\n",
    "# Add background rectangles for Cosine Sim subplot\n",
    "fig.add_shape(type=\"rect\",\n",
    "              x0=-0.5, x1=4.5, y0=y_min_cos, y1=y_max_cos,\n",
    "              fillcolor=\"LightSkyBlue\", opacity=0.3,\n",
    "              layer=\"below\", line_width=0, row=2, col=1)\n",
    "fig.add_shape(type=\"rect\",\n",
    "              x0=4.5, x1=num_molecules-0.5, y0=y_min_cos, y1=y_max_cos,\n",
    "              fillcolor=\"LightCoral\", opacity=0.3,\n",
    "              layer=\"below\", line_width=0, row=2, col=1)\n",
    "\n",
    "# Update layout\n",
    "fig.update_layout(\n",
    "    title=\"Force Prediction Metrics per Molecule\",\n",
    "    template=\"plotly_white\",\n",
    "    font=dict(size=14),\n",
    "    height=800,  # Increase height for better visibility\n",
    "    showlegend=False\n",
    ")\n",
    "\n",
    "# Rotate x-axis labels for both subplots\n",
    "fig.update_xaxes(tickangle=45, row=1, col=1)\n",
    "fig.update_xaxes(tickangle=45, row=2, col=1, title_text=\"Molecule\")\n",
    "\n",
    "fig.show()\n",
    "# fig.write_html(\"force_metrics_results_subplots.html\")\n",
    "# fig.write_image(\"force_metrics_results_subplots.png\")"
   ]
  },
  {
   "cell_type": "code",
   "execution_count": 196,
   "id": "537dc624",
   "metadata": {},
   "outputs": [
    {
     "data": {
      "application/vnd.plotly.v1+json": {
       "config": {
        "plotlyServerURL": "https://plot.ly"
       },
       "data": [
        {
         "line": {
          "color": "blue"
         },
         "marker": {
          "color": "blue",
          "size": 10
         },
         "mode": "markers+lines",
         "name": "MAE (Hartree)",
         "type": "scatter",
         "x": [
          "C2H6",
          "C3H8",
          "C4H10",
          "C5H12",
          "C6H14",
          "C7H16",
          "C8H18",
          "C9H20",
          "C10H22",
          "C11H24",
          "C12H26",
          "C13H28"
         ],
         "xaxis": "x",
         "y": {
          "bdata": "NDuq5O+rND9Cr8yD+0M3Pwt71sJUOjo/9NTPxMBmPD/7HH/oGak9P9xaInh8Mlg/1Geme+bzXT/fbtkCOsNgP93IZ7uDzWE/f3CcnY58ZD/0lCG6YxJmP7/943rgTmY/",
          "dtype": "f8"
         },
         "yaxis": "y"
        },
        {
         "line": {
          "color": "red"
         },
         "marker": {
          "color": "red",
          "size": 10
         },
         "mode": "markers+lines",
         "name": "Mean Cosine Sim",
         "type": "scatter",
         "x": [
          "C2H6",
          "C3H8",
          "C4H10",
          "C5H12",
          "C6H14",
          "C7H16",
          "C8H18",
          "C9H20",
          "C10H22",
          "C11H24",
          "C12H26",
          "C13H28"
         ],
         "xaxis": "x",
         "y": {
          "bdata": "R8Omtv//7z8HLyCL///vP6hVIlD//+8/DiSzJ///7z8IrA0Z///vP9kYMyCC/+8/Wgj1t6r/7z8+NlWUzP/vP/Cb1W7A/+8/+CwFYYX/7z83stlUa//vPxpxMq5V/+8/",
          "dtype": "f8"
         },
         "yaxis": "y2"
        }
       ],
       "layout": {
        "font": {
         "size": 14
        },
        "legend": {
         "bgcolor": "rgba(255, 255, 255, 0.8)",
         "bordercolor": "rgba(0, 0, 0, 0.2)",
         "borderwidth": 1,
         "x": 0.06,
         "xanchor": "left",
         "y": 0.48,
         "yanchor": "bottom"
        },
        "shapes": [
         {
          "fillcolor": "LightSkyBlue",
          "layer": "below",
          "line": {
           "width": 0
          },
          "opacity": 0.2,
          "type": "rect",
          "x0": -0.5,
          "x1": 4.5,
          "y0": 0,
          "y1": 1,
          "yref": "paper"
         },
         {
          "fillcolor": "LightCoral",
          "layer": "below",
          "line": {
           "width": 0
          },
          "opacity": 0.2,
          "type": "rect",
          "x0": 4.5,
          "x1": 11.5,
          "y0": 0,
          "y1": 1,
          "yref": "paper"
         }
        ],
        "template": {
         "data": {
          "bar": [
           {
            "error_x": {
             "color": "#2a3f5f"
            },
            "error_y": {
             "color": "#2a3f5f"
            },
            "marker": {
             "line": {
              "color": "white",
              "width": 0.5
             },
             "pattern": {
              "fillmode": "overlay",
              "size": 10,
              "solidity": 0.2
             }
            },
            "type": "bar"
           }
          ],
          "barpolar": [
           {
            "marker": {
             "line": {
              "color": "white",
              "width": 0.5
             },
             "pattern": {
              "fillmode": "overlay",
              "size": 10,
              "solidity": 0.2
             }
            },
            "type": "barpolar"
           }
          ],
          "carpet": [
           {
            "aaxis": {
             "endlinecolor": "#2a3f5f",
             "gridcolor": "#C8D4E3",
             "linecolor": "#C8D4E3",
             "minorgridcolor": "#C8D4E3",
             "startlinecolor": "#2a3f5f"
            },
            "baxis": {
             "endlinecolor": "#2a3f5f",
             "gridcolor": "#C8D4E3",
             "linecolor": "#C8D4E3",
             "minorgridcolor": "#C8D4E3",
             "startlinecolor": "#2a3f5f"
            },
            "type": "carpet"
           }
          ],
          "choropleth": [
           {
            "colorbar": {
             "outlinewidth": 0,
             "ticks": ""
            },
            "type": "choropleth"
           }
          ],
          "contour": [
           {
            "colorbar": {
             "outlinewidth": 0,
             "ticks": ""
            },
            "colorscale": [
             [
              0,
              "#0d0887"
             ],
             [
              0.1111111111111111,
              "#46039f"
             ],
             [
              0.2222222222222222,
              "#7201a8"
             ],
             [
              0.3333333333333333,
              "#9c179e"
             ],
             [
              0.4444444444444444,
              "#bd3786"
             ],
             [
              0.5555555555555556,
              "#d8576b"
             ],
             [
              0.6666666666666666,
              "#ed7953"
             ],
             [
              0.7777777777777778,
              "#fb9f3a"
             ],
             [
              0.8888888888888888,
              "#fdca26"
             ],
             [
              1,
              "#f0f921"
             ]
            ],
            "type": "contour"
           }
          ],
          "contourcarpet": [
           {
            "colorbar": {
             "outlinewidth": 0,
             "ticks": ""
            },
            "type": "contourcarpet"
           }
          ],
          "heatmap": [
           {
            "colorbar": {
             "outlinewidth": 0,
             "ticks": ""
            },
            "colorscale": [
             [
              0,
              "#0d0887"
             ],
             [
              0.1111111111111111,
              "#46039f"
             ],
             [
              0.2222222222222222,
              "#7201a8"
             ],
             [
              0.3333333333333333,
              "#9c179e"
             ],
             [
              0.4444444444444444,
              "#bd3786"
             ],
             [
              0.5555555555555556,
              "#d8576b"
             ],
             [
              0.6666666666666666,
              "#ed7953"
             ],
             [
              0.7777777777777778,
              "#fb9f3a"
             ],
             [
              0.8888888888888888,
              "#fdca26"
             ],
             [
              1,
              "#f0f921"
             ]
            ],
            "type": "heatmap"
           }
          ],
          "histogram": [
           {
            "marker": {
             "pattern": {
              "fillmode": "overlay",
              "size": 10,
              "solidity": 0.2
             }
            },
            "type": "histogram"
           }
          ],
          "histogram2d": [
           {
            "colorbar": {
             "outlinewidth": 0,
             "ticks": ""
            },
            "colorscale": [
             [
              0,
              "#0d0887"
             ],
             [
              0.1111111111111111,
              "#46039f"
             ],
             [
              0.2222222222222222,
              "#7201a8"
             ],
             [
              0.3333333333333333,
              "#9c179e"
             ],
             [
              0.4444444444444444,
              "#bd3786"
             ],
             [
              0.5555555555555556,
              "#d8576b"
             ],
             [
              0.6666666666666666,
              "#ed7953"
             ],
             [
              0.7777777777777778,
              "#fb9f3a"
             ],
             [
              0.8888888888888888,
              "#fdca26"
             ],
             [
              1,
              "#f0f921"
             ]
            ],
            "type": "histogram2d"
           }
          ],
          "histogram2dcontour": [
           {
            "colorbar": {
             "outlinewidth": 0,
             "ticks": ""
            },
            "colorscale": [
             [
              0,
              "#0d0887"
             ],
             [
              0.1111111111111111,
              "#46039f"
             ],
             [
              0.2222222222222222,
              "#7201a8"
             ],
             [
              0.3333333333333333,
              "#9c179e"
             ],
             [
              0.4444444444444444,
              "#bd3786"
             ],
             [
              0.5555555555555556,
              "#d8576b"
             ],
             [
              0.6666666666666666,
              "#ed7953"
             ],
             [
              0.7777777777777778,
              "#fb9f3a"
             ],
             [
              0.8888888888888888,
              "#fdca26"
             ],
             [
              1,
              "#f0f921"
             ]
            ],
            "type": "histogram2dcontour"
           }
          ],
          "mesh3d": [
           {
            "colorbar": {
             "outlinewidth": 0,
             "ticks": ""
            },
            "type": "mesh3d"
           }
          ],
          "parcoords": [
           {
            "line": {
             "colorbar": {
              "outlinewidth": 0,
              "ticks": ""
             }
            },
            "type": "parcoords"
           }
          ],
          "pie": [
           {
            "automargin": true,
            "type": "pie"
           }
          ],
          "scatter": [
           {
            "fillpattern": {
             "fillmode": "overlay",
             "size": 10,
             "solidity": 0.2
            },
            "type": "scatter"
           }
          ],
          "scatter3d": [
           {
            "line": {
             "colorbar": {
              "outlinewidth": 0,
              "ticks": ""
             }
            },
            "marker": {
             "colorbar": {
              "outlinewidth": 0,
              "ticks": ""
             }
            },
            "type": "scatter3d"
           }
          ],
          "scattercarpet": [
           {
            "marker": {
             "colorbar": {
              "outlinewidth": 0,
              "ticks": ""
             }
            },
            "type": "scattercarpet"
           }
          ],
          "scattergeo": [
           {
            "marker": {
             "colorbar": {
              "outlinewidth": 0,
              "ticks": ""
             }
            },
            "type": "scattergeo"
           }
          ],
          "scattergl": [
           {
            "marker": {
             "colorbar": {
              "outlinewidth": 0,
              "ticks": ""
             }
            },
            "type": "scattergl"
           }
          ],
          "scattermap": [
           {
            "marker": {
             "colorbar": {
              "outlinewidth": 0,
              "ticks": ""
             }
            },
            "type": "scattermap"
           }
          ],
          "scattermapbox": [
           {
            "marker": {
             "colorbar": {
              "outlinewidth": 0,
              "ticks": ""
             }
            },
            "type": "scattermapbox"
           }
          ],
          "scatterpolar": [
           {
            "marker": {
             "colorbar": {
              "outlinewidth": 0,
              "ticks": ""
             }
            },
            "type": "scatterpolar"
           }
          ],
          "scatterpolargl": [
           {
            "marker": {
             "colorbar": {
              "outlinewidth": 0,
              "ticks": ""
             }
            },
            "type": "scatterpolargl"
           }
          ],
          "scatterternary": [
           {
            "marker": {
             "colorbar": {
              "outlinewidth": 0,
              "ticks": ""
             }
            },
            "type": "scatterternary"
           }
          ],
          "surface": [
           {
            "colorbar": {
             "outlinewidth": 0,
             "ticks": ""
            },
            "colorscale": [
             [
              0,
              "#0d0887"
             ],
             [
              0.1111111111111111,
              "#46039f"
             ],
             [
              0.2222222222222222,
              "#7201a8"
             ],
             [
              0.3333333333333333,
              "#9c179e"
             ],
             [
              0.4444444444444444,
              "#bd3786"
             ],
             [
              0.5555555555555556,
              "#d8576b"
             ],
             [
              0.6666666666666666,
              "#ed7953"
             ],
             [
              0.7777777777777778,
              "#fb9f3a"
             ],
             [
              0.8888888888888888,
              "#fdca26"
             ],
             [
              1,
              "#f0f921"
             ]
            ],
            "type": "surface"
           }
          ],
          "table": [
           {
            "cells": {
             "fill": {
              "color": "#EBF0F8"
             },
             "line": {
              "color": "white"
             }
            },
            "header": {
             "fill": {
              "color": "#C8D4E3"
             },
             "line": {
              "color": "white"
             }
            },
            "type": "table"
           }
          ]
         },
         "layout": {
          "annotationdefaults": {
           "arrowcolor": "#2a3f5f",
           "arrowhead": 0,
           "arrowwidth": 1
          },
          "autotypenumbers": "strict",
          "coloraxis": {
           "colorbar": {
            "outlinewidth": 0,
            "ticks": ""
           }
          },
          "colorscale": {
           "diverging": [
            [
             0,
             "#8e0152"
            ],
            [
             0.1,
             "#c51b7d"
            ],
            [
             0.2,
             "#de77ae"
            ],
            [
             0.3,
             "#f1b6da"
            ],
            [
             0.4,
             "#fde0ef"
            ],
            [
             0.5,
             "#f7f7f7"
            ],
            [
             0.6,
             "#e6f5d0"
            ],
            [
             0.7,
             "#b8e186"
            ],
            [
             0.8,
             "#7fbc41"
            ],
            [
             0.9,
             "#4d9221"
            ],
            [
             1,
             "#276419"
            ]
           ],
           "sequential": [
            [
             0,
             "#0d0887"
            ],
            [
             0.1111111111111111,
             "#46039f"
            ],
            [
             0.2222222222222222,
             "#7201a8"
            ],
            [
             0.3333333333333333,
             "#9c179e"
            ],
            [
             0.4444444444444444,
             "#bd3786"
            ],
            [
             0.5555555555555556,
             "#d8576b"
            ],
            [
             0.6666666666666666,
             "#ed7953"
            ],
            [
             0.7777777777777778,
             "#fb9f3a"
            ],
            [
             0.8888888888888888,
             "#fdca26"
            ],
            [
             1,
             "#f0f921"
            ]
           ],
           "sequentialminus": [
            [
             0,
             "#0d0887"
            ],
            [
             0.1111111111111111,
             "#46039f"
            ],
            [
             0.2222222222222222,
             "#7201a8"
            ],
            [
             0.3333333333333333,
             "#9c179e"
            ],
            [
             0.4444444444444444,
             "#bd3786"
            ],
            [
             0.5555555555555556,
             "#d8576b"
            ],
            [
             0.6666666666666666,
             "#ed7953"
            ],
            [
             0.7777777777777778,
             "#fb9f3a"
            ],
            [
             0.8888888888888888,
             "#fdca26"
            ],
            [
             1,
             "#f0f921"
            ]
           ]
          },
          "colorway": [
           "#636efa",
           "#EF553B",
           "#00cc96",
           "#ab63fa",
           "#FFA15A",
           "#19d3f3",
           "#FF6692",
           "#B6E880",
           "#FF97FF",
           "#FECB52"
          ],
          "font": {
           "color": "#2a3f5f"
          },
          "geo": {
           "bgcolor": "white",
           "lakecolor": "white",
           "landcolor": "white",
           "showlakes": true,
           "showland": true,
           "subunitcolor": "#C8D4E3"
          },
          "hoverlabel": {
           "align": "left"
          },
          "hovermode": "closest",
          "mapbox": {
           "style": "light"
          },
          "paper_bgcolor": "white",
          "plot_bgcolor": "white",
          "polar": {
           "angularaxis": {
            "gridcolor": "#EBF0F8",
            "linecolor": "#EBF0F8",
            "ticks": ""
           },
           "bgcolor": "white",
           "radialaxis": {
            "gridcolor": "#EBF0F8",
            "linecolor": "#EBF0F8",
            "ticks": ""
           }
          },
          "scene": {
           "xaxis": {
            "backgroundcolor": "white",
            "gridcolor": "#DFE8F3",
            "gridwidth": 2,
            "linecolor": "#EBF0F8",
            "showbackground": true,
            "ticks": "",
            "zerolinecolor": "#EBF0F8"
           },
           "yaxis": {
            "backgroundcolor": "white",
            "gridcolor": "#DFE8F3",
            "gridwidth": 2,
            "linecolor": "#EBF0F8",
            "showbackground": true,
            "ticks": "",
            "zerolinecolor": "#EBF0F8"
           },
           "zaxis": {
            "backgroundcolor": "white",
            "gridcolor": "#DFE8F3",
            "gridwidth": 2,
            "linecolor": "#EBF0F8",
            "showbackground": true,
            "ticks": "",
            "zerolinecolor": "#EBF0F8"
           }
          },
          "shapedefaults": {
           "line": {
            "color": "#2a3f5f"
           }
          },
          "ternary": {
           "aaxis": {
            "gridcolor": "#DFE8F3",
            "linecolor": "#A2B1C6",
            "ticks": ""
           },
           "baxis": {
            "gridcolor": "#DFE8F3",
            "linecolor": "#A2B1C6",
            "ticks": ""
           },
           "bgcolor": "white",
           "caxis": {
            "gridcolor": "#DFE8F3",
            "linecolor": "#A2B1C6",
            "ticks": ""
           }
          },
          "title": {
           "x": 0.05
          },
          "xaxis": {
           "automargin": true,
           "gridcolor": "#EBF0F8",
           "linecolor": "#EBF0F8",
           "ticks": "",
           "title": {
            "standoff": 15
           },
           "zerolinecolor": "#EBF0F8",
           "zerolinewidth": 2
          },
          "yaxis": {
           "automargin": true,
           "gridcolor": "#EBF0F8",
           "linecolor": "#EBF0F8",
           "ticks": "",
           "title": {
            "standoff": 15
           },
           "zerolinecolor": "#EBF0F8",
           "zerolinewidth": 2
          }
         }
        },
        "title": {
         "text": "Force Prediction Metrics per Molecule (Dual Y-Axis)"
        },
        "xaxis": {
         "anchor": "y",
         "domain": [
          0,
          0.94
         ],
         "tickangle": 45,
         "title": {
          "text": "Molecule"
         }
        },
        "yaxis": {
         "anchor": "x",
         "domain": [
          0,
          1
         ],
         "range": [
          0.0002,
          0.003
         ],
         "tickformat": ".4f",
         "title": {
          "text": "MAE (Hartree)"
         }
        },
        "yaxis2": {
         "anchor": "x",
         "overlaying": "y",
         "range": [
          0.999913785719289,
          1.000004863376935
         ],
         "side": "right",
         "tickformat": ".5f",
         "title": {
          "text": "Mean Cosine Similarity"
         }
        }
       }
      }
     },
     "metadata": {},
     "output_type": "display_data"
    }
   ],
   "source": [
    "# Option 2: Single plot with secondary y-axis (overlapping plots)\n",
    "import pandas as pd\n",
    "import plotly.graph_objects as go\n",
    "from plotly.subplots import make_subplots\n",
    "\n",
    "results_df = pd.read_csv(\"force_metrics_results.csv\")\n",
    "\n",
    "# Create figure with secondary y-axis\n",
    "fig = make_subplots(specs=[[{\"secondary_y\": True}]])\n",
    "\n",
    "# Add MAE trace on primary y-axis\n",
    "fig.add_trace(\n",
    "    go.Scatter(x=results_df[\"Molecule\"], y=results_df[\"MAE (Hartree)\"],\n",
    "               mode='markers+lines', marker=dict(size=10, color='blue'),\n",
    "               name=\"MAE (Hartree)\", line=dict(color='blue')),\n",
    "    secondary_y=False,\n",
    ")\n",
    "\n",
    "# Add Cosine Similarity trace on secondary y-axis\n",
    "fig.add_trace(\n",
    "    go.Scatter(x=results_df[\"Molecule\"], y=results_df[\"Mean Cosine Sim\"],\n",
    "               mode='markers+lines', marker=dict(size=10, color='red'),\n",
    "               name=\"Mean Cosine Sim\", line=dict(color='red')),\n",
    "    secondary_y=True,\n",
    ")\n",
    "\n",
    "# Get the number of molecules for proper indexing\n",
    "num_molecules = len(results_df)\n",
    "\n",
    "# Set y-axes titles and ranges\n",
    "fig.update_yaxes(title_text=\"MAE (Hartree)\", tickformat=\".4f\", \n",
    "                 range=[0.0002, 0.0030], secondary_y=False)\n",
    "fig.update_yaxes(title_text=\"Mean Cosine Similarity\", tickformat=\".5f\",\n",
    "                 range=[results_df[\"Mean Cosine Sim\"].min() * 0.999995, \n",
    "                        results_df[\"Mean Cosine Sim\"].max() * 1.000005], \n",
    "                 secondary_y=True)\n",
    "\n",
    "# Add background rectangles\n",
    "fig.add_shape(type=\"rect\",\n",
    "              x0=-0.5, x1=4.5, y0=0, y1=1,\n",
    "              fillcolor=\"LightSkyBlue\", opacity=0.2,\n",
    "              layer=\"below\", line_width=0, yref=\"paper\")\n",
    "fig.add_shape(type=\"rect\",\n",
    "              x0=4.5, x1=num_molecules-0.5, y0=0, y1=1,\n",
    "              fillcolor=\"LightCoral\", opacity=0.2,\n",
    "              layer=\"below\", line_width=0, yref=\"paper\")\n",
    "\n",
    "# Update layout with legend positioned inside the plot\n",
    "fig.update_layout(\n",
    "    title=\"Force Prediction Metrics per Molecule (Dual Y-Axis)\",\n",
    "    template=\"plotly_white\",\n",
    "    font=dict(size=14),\n",
    "    xaxis_title=\"Molecule\",\n",
    "    legend=dict(\n",
    "        x=0.06,  # Position legend inside the plot area (left side)\n",
    "        y=0.48,  # Position at the top\n",
    "        xanchor='left',\n",
    "        yanchor='bottom',\n",
    "        bgcolor='rgba(255, 255, 255, 0.8)',  # Semi-transparent white background\n",
    "        bordercolor='rgba(0, 0, 0, 0.2)',    # Light border\n",
    "        borderwidth=1\n",
    "    )\n",
    ")\n",
    "\n",
    "# Rotate x-axis labels\n",
    "fig.update_xaxes(tickangle=45)\n",
    "\n",
    "fig.show()\n",
    "# fig.write_html(\"force_metrics_results_dual_axis.html\")\n",
    "# fig.write_image(\"force_metrics_results_dual_axis.png\")"
   ]
  },
  {
   "cell_type": "code",
   "execution_count": null,
   "id": "ef671f49",
   "metadata": {},
   "outputs": [],
   "source": []
  },
  {
   "cell_type": "code",
   "execution_count": 202,
   "id": "2dca0c03",
   "metadata": {},
   "outputs": [
    {
     "data": {
      "application/vnd.plotly.v1+json": {
       "config": {
        "plotlyServerURL": "https://plot.ly"
       },
       "data": [
        {
         "line": {
          "color": "blue"
         },
         "marker": {
          "size": 8
         },
         "mode": "markers+lines",
         "name": "MAE",
         "type": "scatter",
         "x": [
          "C2H6",
          "C3H8",
          "C4H10",
          "C5H12",
          "C6H14",
          "C7H16",
          "C8H18",
          "C9H20",
          "C10H22",
          "C11H24",
          "C12H26",
          "C13H28"
         ],
         "xaxis": "x",
         "y": {
          "bdata": "NDuq5O+rND9Cr8yD+0M3Pwt71sJUOjo/9NTPxMBmPD/7HH/oGak9P9xaInh8Mlg/1Geme+bzXT/fbtkCOsNgP93IZ7uDzWE/f3CcnY58ZD/0lCG6YxJmP7/943rgTmY/",
          "dtype": "f8"
         },
         "yaxis": "y"
        },
        {
         "line": {
          "color": "red"
         },
         "marker": {
          "size": 8
         },
         "mode": "markers+lines",
         "name": "Cosine Sim",
         "type": "scatter",
         "x": [
          "C2H6",
          "C3H8",
          "C4H10",
          "C5H12",
          "C6H14",
          "C7H16",
          "C8H18",
          "C9H20",
          "C10H22",
          "C11H24",
          "C12H26",
          "C13H28"
         ],
         "xaxis": "x2",
         "y": {
          "bdata": "R8Omtv//7z8HLyCL///vP6hVIlD//+8/DiSzJ///7z8IrA0Z///vP9kYMyCC/+8/Wgj1t6r/7z8+NlWUzP/vP/Cb1W7A/+8/+CwFYYX/7z83stlUa//vPxpxMq5V/+8/",
          "dtype": "f8"
         },
         "yaxis": "y2"
        }
       ],
       "layout": {
        "annotations": [
         {
          "font": {
           "size": 16
          },
          "showarrow": false,
          "text": "Mean Absolute Error (Hartree)",
          "x": 0.225,
          "xanchor": "center",
          "xref": "paper",
          "y": 1,
          "yanchor": "bottom",
          "yref": "paper"
         },
         {
          "font": {
           "size": 16
          },
          "showarrow": false,
          "text": "Mean Cosine Similarity",
          "x": 0.775,
          "xanchor": "center",
          "xref": "paper",
          "y": 1,
          "yanchor": "bottom",
          "yref": "paper"
         }
        ],
        "font": {
         "size": 14
        },
        "height": 500,
        "shapes": [
         {
          "fillcolor": "LightSkyBlue",
          "layer": "below",
          "line": {
           "width": 0
          },
          "opacity": 0.3,
          "type": "rect",
          "x0": -0.5,
          "x1": 4.5,
          "xref": "x",
          "y0": 0.0002,
          "y1": 0.003,
          "yref": "y"
         },
         {
          "fillcolor": "LightCoral",
          "layer": "below",
          "line": {
           "width": 0
          },
          "opacity": 0.3,
          "type": "rect",
          "x0": 4.5,
          "x1": 11.5,
          "xref": "x",
          "y0": 0.0002,
          "y1": 0.003,
          "yref": "y"
         },
         {
          "fillcolor": "LightSkyBlue",
          "layer": "below",
          "line": {
           "width": 0
          },
          "opacity": 0.3,
          "type": "rect",
          "x0": -0.5,
          "x1": 4.5,
          "xref": "x2",
          "y0": 0.999913785719289,
          "y1": 1.000004863376935,
          "yref": "y2"
         },
         {
          "fillcolor": "LightCoral",
          "layer": "below",
          "line": {
           "width": 0
          },
          "opacity": 0.3,
          "type": "rect",
          "x0": 4.5,
          "x1": 11.5,
          "xref": "x2",
          "y0": 0.999913785719289,
          "y1": 1.000004863376935,
          "yref": "y2"
         }
        ],
        "showlegend": false,
        "template": {
         "data": {
          "bar": [
           {
            "error_x": {
             "color": "#2a3f5f"
            },
            "error_y": {
             "color": "#2a3f5f"
            },
            "marker": {
             "line": {
              "color": "white",
              "width": 0.5
             },
             "pattern": {
              "fillmode": "overlay",
              "size": 10,
              "solidity": 0.2
             }
            },
            "type": "bar"
           }
          ],
          "barpolar": [
           {
            "marker": {
             "line": {
              "color": "white",
              "width": 0.5
             },
             "pattern": {
              "fillmode": "overlay",
              "size": 10,
              "solidity": 0.2
             }
            },
            "type": "barpolar"
           }
          ],
          "carpet": [
           {
            "aaxis": {
             "endlinecolor": "#2a3f5f",
             "gridcolor": "#C8D4E3",
             "linecolor": "#C8D4E3",
             "minorgridcolor": "#C8D4E3",
             "startlinecolor": "#2a3f5f"
            },
            "baxis": {
             "endlinecolor": "#2a3f5f",
             "gridcolor": "#C8D4E3",
             "linecolor": "#C8D4E3",
             "minorgridcolor": "#C8D4E3",
             "startlinecolor": "#2a3f5f"
            },
            "type": "carpet"
           }
          ],
          "choropleth": [
           {
            "colorbar": {
             "outlinewidth": 0,
             "ticks": ""
            },
            "type": "choropleth"
           }
          ],
          "contour": [
           {
            "colorbar": {
             "outlinewidth": 0,
             "ticks": ""
            },
            "colorscale": [
             [
              0,
              "#0d0887"
             ],
             [
              0.1111111111111111,
              "#46039f"
             ],
             [
              0.2222222222222222,
              "#7201a8"
             ],
             [
              0.3333333333333333,
              "#9c179e"
             ],
             [
              0.4444444444444444,
              "#bd3786"
             ],
             [
              0.5555555555555556,
              "#d8576b"
             ],
             [
              0.6666666666666666,
              "#ed7953"
             ],
             [
              0.7777777777777778,
              "#fb9f3a"
             ],
             [
              0.8888888888888888,
              "#fdca26"
             ],
             [
              1,
              "#f0f921"
             ]
            ],
            "type": "contour"
           }
          ],
          "contourcarpet": [
           {
            "colorbar": {
             "outlinewidth": 0,
             "ticks": ""
            },
            "type": "contourcarpet"
           }
          ],
          "heatmap": [
           {
            "colorbar": {
             "outlinewidth": 0,
             "ticks": ""
            },
            "colorscale": [
             [
              0,
              "#0d0887"
             ],
             [
              0.1111111111111111,
              "#46039f"
             ],
             [
              0.2222222222222222,
              "#7201a8"
             ],
             [
              0.3333333333333333,
              "#9c179e"
             ],
             [
              0.4444444444444444,
              "#bd3786"
             ],
             [
              0.5555555555555556,
              "#d8576b"
             ],
             [
              0.6666666666666666,
              "#ed7953"
             ],
             [
              0.7777777777777778,
              "#fb9f3a"
             ],
             [
              0.8888888888888888,
              "#fdca26"
             ],
             [
              1,
              "#f0f921"
             ]
            ],
            "type": "heatmap"
           }
          ],
          "histogram": [
           {
            "marker": {
             "pattern": {
              "fillmode": "overlay",
              "size": 10,
              "solidity": 0.2
             }
            },
            "type": "histogram"
           }
          ],
          "histogram2d": [
           {
            "colorbar": {
             "outlinewidth": 0,
             "ticks": ""
            },
            "colorscale": [
             [
              0,
              "#0d0887"
             ],
             [
              0.1111111111111111,
              "#46039f"
             ],
             [
              0.2222222222222222,
              "#7201a8"
             ],
             [
              0.3333333333333333,
              "#9c179e"
             ],
             [
              0.4444444444444444,
              "#bd3786"
             ],
             [
              0.5555555555555556,
              "#d8576b"
             ],
             [
              0.6666666666666666,
              "#ed7953"
             ],
             [
              0.7777777777777778,
              "#fb9f3a"
             ],
             [
              0.8888888888888888,
              "#fdca26"
             ],
             [
              1,
              "#f0f921"
             ]
            ],
            "type": "histogram2d"
           }
          ],
          "histogram2dcontour": [
           {
            "colorbar": {
             "outlinewidth": 0,
             "ticks": ""
            },
            "colorscale": [
             [
              0,
              "#0d0887"
             ],
             [
              0.1111111111111111,
              "#46039f"
             ],
             [
              0.2222222222222222,
              "#7201a8"
             ],
             [
              0.3333333333333333,
              "#9c179e"
             ],
             [
              0.4444444444444444,
              "#bd3786"
             ],
             [
              0.5555555555555556,
              "#d8576b"
             ],
             [
              0.6666666666666666,
              "#ed7953"
             ],
             [
              0.7777777777777778,
              "#fb9f3a"
             ],
             [
              0.8888888888888888,
              "#fdca26"
             ],
             [
              1,
              "#f0f921"
             ]
            ],
            "type": "histogram2dcontour"
           }
          ],
          "mesh3d": [
           {
            "colorbar": {
             "outlinewidth": 0,
             "ticks": ""
            },
            "type": "mesh3d"
           }
          ],
          "parcoords": [
           {
            "line": {
             "colorbar": {
              "outlinewidth": 0,
              "ticks": ""
             }
            },
            "type": "parcoords"
           }
          ],
          "pie": [
           {
            "automargin": true,
            "type": "pie"
           }
          ],
          "scatter": [
           {
            "fillpattern": {
             "fillmode": "overlay",
             "size": 10,
             "solidity": 0.2
            },
            "type": "scatter"
           }
          ],
          "scatter3d": [
           {
            "line": {
             "colorbar": {
              "outlinewidth": 0,
              "ticks": ""
             }
            },
            "marker": {
             "colorbar": {
              "outlinewidth": 0,
              "ticks": ""
             }
            },
            "type": "scatter3d"
           }
          ],
          "scattercarpet": [
           {
            "marker": {
             "colorbar": {
              "outlinewidth": 0,
              "ticks": ""
             }
            },
            "type": "scattercarpet"
           }
          ],
          "scattergeo": [
           {
            "marker": {
             "colorbar": {
              "outlinewidth": 0,
              "ticks": ""
             }
            },
            "type": "scattergeo"
           }
          ],
          "scattergl": [
           {
            "marker": {
             "colorbar": {
              "outlinewidth": 0,
              "ticks": ""
             }
            },
            "type": "scattergl"
           }
          ],
          "scattermap": [
           {
            "marker": {
             "colorbar": {
              "outlinewidth": 0,
              "ticks": ""
             }
            },
            "type": "scattermap"
           }
          ],
          "scattermapbox": [
           {
            "marker": {
             "colorbar": {
              "outlinewidth": 0,
              "ticks": ""
             }
            },
            "type": "scattermapbox"
           }
          ],
          "scatterpolar": [
           {
            "marker": {
             "colorbar": {
              "outlinewidth": 0,
              "ticks": ""
             }
            },
            "type": "scatterpolar"
           }
          ],
          "scatterpolargl": [
           {
            "marker": {
             "colorbar": {
              "outlinewidth": 0,
              "ticks": ""
             }
            },
            "type": "scatterpolargl"
           }
          ],
          "scatterternary": [
           {
            "marker": {
             "colorbar": {
              "outlinewidth": 0,
              "ticks": ""
             }
            },
            "type": "scatterternary"
           }
          ],
          "surface": [
           {
            "colorbar": {
             "outlinewidth": 0,
             "ticks": ""
            },
            "colorscale": [
             [
              0,
              "#0d0887"
             ],
             [
              0.1111111111111111,
              "#46039f"
             ],
             [
              0.2222222222222222,
              "#7201a8"
             ],
             [
              0.3333333333333333,
              "#9c179e"
             ],
             [
              0.4444444444444444,
              "#bd3786"
             ],
             [
              0.5555555555555556,
              "#d8576b"
             ],
             [
              0.6666666666666666,
              "#ed7953"
             ],
             [
              0.7777777777777778,
              "#fb9f3a"
             ],
             [
              0.8888888888888888,
              "#fdca26"
             ],
             [
              1,
              "#f0f921"
             ]
            ],
            "type": "surface"
           }
          ],
          "table": [
           {
            "cells": {
             "fill": {
              "color": "#EBF0F8"
             },
             "line": {
              "color": "white"
             }
            },
            "header": {
             "fill": {
              "color": "#C8D4E3"
             },
             "line": {
              "color": "white"
             }
            },
            "type": "table"
           }
          ]
         },
         "layout": {
          "annotationdefaults": {
           "arrowcolor": "#2a3f5f",
           "arrowhead": 0,
           "arrowwidth": 1
          },
          "autotypenumbers": "strict",
          "coloraxis": {
           "colorbar": {
            "outlinewidth": 0,
            "ticks": ""
           }
          },
          "colorscale": {
           "diverging": [
            [
             0,
             "#8e0152"
            ],
            [
             0.1,
             "#c51b7d"
            ],
            [
             0.2,
             "#de77ae"
            ],
            [
             0.3,
             "#f1b6da"
            ],
            [
             0.4,
             "#fde0ef"
            ],
            [
             0.5,
             "#f7f7f7"
            ],
            [
             0.6,
             "#e6f5d0"
            ],
            [
             0.7,
             "#b8e186"
            ],
            [
             0.8,
             "#7fbc41"
            ],
            [
             0.9,
             "#4d9221"
            ],
            [
             1,
             "#276419"
            ]
           ],
           "sequential": [
            [
             0,
             "#0d0887"
            ],
            [
             0.1111111111111111,
             "#46039f"
            ],
            [
             0.2222222222222222,
             "#7201a8"
            ],
            [
             0.3333333333333333,
             "#9c179e"
            ],
            [
             0.4444444444444444,
             "#bd3786"
            ],
            [
             0.5555555555555556,
             "#d8576b"
            ],
            [
             0.6666666666666666,
             "#ed7953"
            ],
            [
             0.7777777777777778,
             "#fb9f3a"
            ],
            [
             0.8888888888888888,
             "#fdca26"
            ],
            [
             1,
             "#f0f921"
            ]
           ],
           "sequentialminus": [
            [
             0,
             "#0d0887"
            ],
            [
             0.1111111111111111,
             "#46039f"
            ],
            [
             0.2222222222222222,
             "#7201a8"
            ],
            [
             0.3333333333333333,
             "#9c179e"
            ],
            [
             0.4444444444444444,
             "#bd3786"
            ],
            [
             0.5555555555555556,
             "#d8576b"
            ],
            [
             0.6666666666666666,
             "#ed7953"
            ],
            [
             0.7777777777777778,
             "#fb9f3a"
            ],
            [
             0.8888888888888888,
             "#fdca26"
            ],
            [
             1,
             "#f0f921"
            ]
           ]
          },
          "colorway": [
           "#636efa",
           "#EF553B",
           "#00cc96",
           "#ab63fa",
           "#FFA15A",
           "#19d3f3",
           "#FF6692",
           "#B6E880",
           "#FF97FF",
           "#FECB52"
          ],
          "font": {
           "color": "#2a3f5f"
          },
          "geo": {
           "bgcolor": "white",
           "lakecolor": "white",
           "landcolor": "white",
           "showlakes": true,
           "showland": true,
           "subunitcolor": "#C8D4E3"
          },
          "hoverlabel": {
           "align": "left"
          },
          "hovermode": "closest",
          "mapbox": {
           "style": "light"
          },
          "paper_bgcolor": "white",
          "plot_bgcolor": "white",
          "polar": {
           "angularaxis": {
            "gridcolor": "#EBF0F8",
            "linecolor": "#EBF0F8",
            "ticks": ""
           },
           "bgcolor": "white",
           "radialaxis": {
            "gridcolor": "#EBF0F8",
            "linecolor": "#EBF0F8",
            "ticks": ""
           }
          },
          "scene": {
           "xaxis": {
            "backgroundcolor": "white",
            "gridcolor": "#DFE8F3",
            "gridwidth": 2,
            "linecolor": "#EBF0F8",
            "showbackground": true,
            "ticks": "",
            "zerolinecolor": "#EBF0F8"
           },
           "yaxis": {
            "backgroundcolor": "white",
            "gridcolor": "#DFE8F3",
            "gridwidth": 2,
            "linecolor": "#EBF0F8",
            "showbackground": true,
            "ticks": "",
            "zerolinecolor": "#EBF0F8"
           },
           "zaxis": {
            "backgroundcolor": "white",
            "gridcolor": "#DFE8F3",
            "gridwidth": 2,
            "linecolor": "#EBF0F8",
            "showbackground": true,
            "ticks": "",
            "zerolinecolor": "#EBF0F8"
           }
          },
          "shapedefaults": {
           "line": {
            "color": "#2a3f5f"
           }
          },
          "ternary": {
           "aaxis": {
            "gridcolor": "#DFE8F3",
            "linecolor": "#A2B1C6",
            "ticks": ""
           },
           "baxis": {
            "gridcolor": "#DFE8F3",
            "linecolor": "#A2B1C6",
            "ticks": ""
           },
           "bgcolor": "white",
           "caxis": {
            "gridcolor": "#DFE8F3",
            "linecolor": "#A2B1C6",
            "ticks": ""
           }
          },
          "title": {
           "x": 0.05
          },
          "xaxis": {
           "automargin": true,
           "gridcolor": "#EBF0F8",
           "linecolor": "#EBF0F8",
           "ticks": "",
           "title": {
            "standoff": 15
           },
           "zerolinecolor": "#EBF0F8",
           "zerolinewidth": 2
          },
          "yaxis": {
           "automargin": true,
           "gridcolor": "#EBF0F8",
           "linecolor": "#EBF0F8",
           "ticks": "",
           "title": {
            "standoff": 15
           },
           "zerolinecolor": "#EBF0F8",
           "zerolinewidth": 2
          }
         }
        },
        "title": {
         "text": "Force Prediction Metrics per Molecule"
        },
        "width": 1200,
        "xaxis": {
         "anchor": "y",
         "domain": [
          0,
          0.45
         ],
         "tickangle": 45,
         "title": {
          "text": "Molecule"
         }
        },
        "xaxis2": {
         "anchor": "y2",
         "domain": [
          0.55,
          1
         ],
         "tickangle": 45,
         "title": {
          "text": "Molecule"
         }
        },
        "yaxis": {
         "anchor": "x",
         "domain": [
          0,
          1
         ],
         "range": [
          0.0002,
          0.003
         ],
         "tickformat": ".4f"
        },
        "yaxis2": {
         "anchor": "x2",
         "domain": [
          0,
          1
         ],
         "range": [
          0.999913785719289,
          1.000004863376935
         ],
         "tickformat": ".5f"
        }
       }
      }
     },
     "metadata": {},
     "output_type": "display_data"
    }
   ],
   "source": [
    "# Option 3: Side-by-side subplots\n",
    "import pandas as pd\n",
    "import plotly.graph_objects as go\n",
    "from plotly.subplots import make_subplots\n",
    "\n",
    "results_df = pd.read_csv(\"force_metrics_results.csv\")\n",
    "\n",
    "# Create side-by-side subplots\n",
    "fig = make_subplots(\n",
    "    rows=1, cols=2,\n",
    "    subplot_titles=('Mean Absolute Error (Hartree)', 'Mean Cosine Similarity'),\n",
    "    horizontal_spacing=0.1\n",
    ")\n",
    "\n",
    "# Get the number of molecules for proper indexing\n",
    "num_molecules = len(results_df)\n",
    "\n",
    "# Add MAE plot to first subplot\n",
    "fig.add_trace(\n",
    "    go.Scatter(x=results_df[\"Molecule\"], y=results_df[\"MAE (Hartree)\"],\n",
    "               mode='markers+lines', marker=dict(size=8),\n",
    "               name=\"MAE\", line=dict(color='blue')),\n",
    "    row=1, col=1\n",
    ")\n",
    "\n",
    "# Add Mean Cosine Sim plot to second subplot\n",
    "fig.add_trace(\n",
    "    go.Scatter(x=results_df[\"Molecule\"], y=results_df[\"Mean Cosine Sim\"],\n",
    "               mode='markers+lines', marker=dict(size=8),\n",
    "               name=\"Cosine Sim\", line=dict(color='red')),\n",
    "    row=1, col=2\n",
    ")\n",
    "\n",
    "# Set Y-axis ranges for each subplot\n",
    "# MAE subplot\n",
    "y_min_mae = 0.0002\n",
    "y_max_mae = 0.0030\n",
    "fig.update_yaxes(tickformat=\".4f\", range=[y_min_mae, y_max_mae], row=1, col=1)\n",
    "\n",
    "# Cosine Sim subplot\n",
    "y_min_cos = results_df[\"Mean Cosine Sim\"].min() * 0.999995\n",
    "y_max_cos = results_df[\"Mean Cosine Sim\"].max() * 1.000005\n",
    "fig.update_yaxes(tickformat=\".5f\", range=[y_min_cos, y_max_cos], row=1, col=2)\n",
    "\n",
    "# Add background rectangles for MAE subplot\n",
    "fig.add_shape(type=\"rect\",\n",
    "              x0=-0.5, x1=4.5, y0=y_min_mae, y1=y_max_mae,\n",
    "              fillcolor=\"LightSkyBlue\", opacity=0.3,\n",
    "              layer=\"below\", line_width=0, row=1, col=1)\n",
    "fig.add_shape(type=\"rect\",\n",
    "              x0=4.5, x1=num_molecules-0.5, y0=y_min_mae, y1=y_max_mae,\n",
    "              fillcolor=\"LightCoral\", opacity=0.3,\n",
    "              layer=\"below\", line_width=0, row=1, col=1)\n",
    "\n",
    "# Add background rectangles for Cosine Sim subplot\n",
    "fig.add_shape(type=\"rect\",\n",
    "              x0=-0.5, x1=4.5, y0=y_min_cos, y1=y_max_cos,\n",
    "              fillcolor=\"LightSkyBlue\", opacity=0.3,\n",
    "              layer=\"below\", line_width=0, row=1, col=2)\n",
    "fig.add_shape(type=\"rect\",\n",
    "              x0=4.5, x1=num_molecules-0.5, y0=y_min_cos, y1=y_max_cos,\n",
    "              fillcolor=\"LightCoral\", opacity=0.3,\n",
    "              layer=\"below\", line_width=0, row=1, col=2)\n",
    "\n",
    "# Update layout\n",
    "fig.update_layout(\n",
    "    title=\"Force Prediction Metrics per Molecule\",\n",
    "    template=\"plotly_white\",\n",
    "    font=dict(size=14),\n",
    "    width=1200,  # Increase width for better visibility\n",
    "    height=500,\n",
    "    showlegend=False\n",
    ")\n",
    "\n",
    "# Rotate x-axis labels and add titles\n",
    "fig.update_xaxes(tickangle=45, title_text=\"Molecule\", row=1, col=1)\n",
    "fig.update_xaxes(tickangle=45, title_text=\"Molecule\", row=1, col=2)\n",
    "\n",
    "fig.show()\n",
    "# fig.write_html(\"force_metrics_results_sidebyside.html\")\n",
    "# fig.write_image(\"force_metrics_results_sidebyside.png\")"
   ]
  }
 ],
 "metadata": {
  "kernelspec": {
   "display_name": "default",
   "language": "python",
   "name": "python3"
  },
  "language_info": {
   "codemirror_mode": {
    "name": "ipython",
    "version": 3
   },
   "file_extension": ".py",
   "mimetype": "text/x-python",
   "name": "python",
   "nbconvert_exporter": "python",
   "pygments_lexer": "ipython3",
   "version": "3.11.13"
  },
  "widgets": {
   "application/vnd.jupyter.widget-state+json": {
    "state": {},
    "version_major": 2,
    "version_minor": 0
   }
  }
 },
 "nbformat": 4,
 "nbformat_minor": 5
}
